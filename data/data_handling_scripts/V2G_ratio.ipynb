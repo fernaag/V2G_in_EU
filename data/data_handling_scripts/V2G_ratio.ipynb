{
 "cells": [
  {
   "cell_type": "markdown",
   "metadata": {},
   "source": [
    "# Reshaping data for model\n",
    "In this file, we will take the data that has been gathered and harmonized and we will fit it, create scenarios, and save it as a structured array for the model. Since we would like to keep the flexibility with excel, we will also save it in an ODYM compatible format and create a file that can do the reverse: if teh excel file is eddited, so is the array. This will be a separate script."
   ]
  },
  {
   "cell_type": "code",
   "execution_count": 1,
   "metadata": {},
   "outputs": [
    {
     "name": "stderr",
     "output_type": "stream",
     "text": [
      "INFO (3607234930.py <<module>>): ### 1. - Initialize.\n",
      "INFO (3607234930.py <<module>>): Read and parse config table, including the model index table, from model config sheet.\n",
      "INFO (ODYM_Functions.py <ParseConfigFile>): Read parameter list from model config sheet.\n",
      "INFO (ODYM_Functions.py <ParseConfigFile>): Read process list from model config sheet.\n",
      "INFO (ODYM_Functions.py <ParseConfigFile>): Read model run control from model config sheet.\n",
      "INFO (ODYM_Functions.py <ParseConfigFile>): Read model output control from model config sheet.\n",
      "INFO (ODYM_Functions.py <ParseClassificationFile_Main>): End of file or formatting error while reading the classification file in column 16. Check if all classifications are present. If yes, you are good to go!\n",
      "INFO (3607234930.py <<module>>): Define model classifications and select items for model classifications according to information provided by config file.\n",
      "INFO (3607234930.py <<module>>): ### 2.2 - Define model index table and parameter dictionary\n",
      "INFO (3607234930.py <<module>>): Define index table dataframe.\n"
     ]
    },
    {
     "name": "stdout",
     "output_type": "stream",
     "text": [
      "Vehicle stock model for European fleet\n"
     ]
    }
   ],
   "source": [
    "# Load a local copy of the current ODYM branch:\n",
    "import sys\n",
    "import os\n",
    "import numpy as np\n",
    "import pandas as pd\n",
    "import pickle\n",
    "import matplotlib.pyplot as plt\n",
    "from seaborn.palettes import color_palette\n",
    "import xlrd\n",
    "import pylab\n",
    "from copy import deepcopy\n",
    "import logging as log\n",
    "import xlwt\n",
    "import tqdm\n",
    "import math\n",
    "from scipy.stats import norm\n",
    "from tqdm import tqdm\n",
    "from scipy.optimize import curve_fit\n",
    "import matplotlib\n",
    "from logistic import logistic as logistic\n",
    "mpl_logger = log.getLogger(\"matplotlib\")\n",
    "mpl_logger.setLevel(log.WARNING)  \n",
    "xlrd.xlsx.ensure_elementtree_imported(False, None)\n",
    "xlrd.xlsx.Element_has_iter = True\n",
    "# For Ipython Notebook only\n",
    "### Preamble\n",
    "# Going to parent path\n",
    "os.getcwd()\n",
    "os.chdir(\"..\")\n",
    "os.chdir(\"..\")\n",
    "\n",
    "# add ODYM module directory to system path, relative\n",
    "MainPath = os.path.join(os.getcwd(), 'odym', 'modules')\n",
    "sys.path.insert(0, MainPath)\n",
    "\n",
    "# add ODYM module directory to system path, absolute\n",
    "sys.path.insert(0, os.path.join(os.getcwd(), 'odym', 'modules'))\n",
    "\n",
    "# Specify path to dynamic stock model and to datafile, relative\n",
    "DataPath = os.path.join( 'docs', 'files')\n",
    "\n",
    "# Specify path to dynamic stock model and to datafile, absolute\n",
    "DataPath = os.path.join(os.getcwd(), 'docs', 'Files')\n",
    "\n",
    "import ODYM_Classes as msc # import the ODYM class file\n",
    "import ODYM_Functions as msf # import the ODYM function file\n",
    "import dynamic_stock_model as dsm # import the dynamic stock model library\n",
    "\n",
    "# Initialize loggin routine\n",
    "log_verbosity = eval(\"log.DEBUG\")\n",
    "log_filename = 'LogFileTest.md'\n",
    "[Mylog, console_log, file_log] = msf.function_logger(log_filename, os.getcwd(),\n",
    "                                                     log_verbosity, log_verbosity)\n",
    "Mylog.info('### 1. - Initialize.')\n",
    "\n",
    "#Read main script parameters\n",
    "#Load project-specific config file\n",
    "ProjectSpecs_ConFile = 'ODYM_Config_Vehicle_System.xlsx'\n",
    "Model_Configfile     = xlrd.open_workbook(os.path.join(DataPath, ProjectSpecs_ConFile))\n",
    "ScriptConfig         = {'Model Setting': Model_Configfile.sheet_by_name('Config').cell_value(3,3)} # Dictionary with config parameters\n",
    "Model_Configsheet    = Model_Configfile.sheet_by_name('Setting_' + ScriptConfig['Model Setting'])\n",
    "\n",
    "Name_Scenario        = Model_Configsheet.cell_value(3,3)\n",
    "print(Name_Scenario)\n",
    "\n",
    "#Read control and selection parameters into dictionary\n",
    "ScriptConfig         = msf.ParseModelControl(Model_Configsheet,ScriptConfig)\n",
    "\n",
    "Mylog.info('Read and parse config table, including the model index table, from model config sheet.')\n",
    "IT_Aspects,IT_Description,IT_Dimension,IT_Classification,IT_Selector,IT_IndexLetter,\\\n",
    "PL_Names,PL_Description,PL_Version,PL_IndexStructure,PL_IndexMatch,PL_IndexLayer,\\\n",
    "PrL_Number,PrL_Name,PrL_Comment,PrL_Type,ScriptConfig = msf.ParseConfigFile(Model_Configsheet,ScriptConfig,Mylog)    \n",
    "\n",
    "class_filename       = 'ODYM_Classifications_Master_Vehicle_System.xlsx'\n",
    "Classfile            = xlrd.open_workbook(os.path.join(DataPath,class_filename))\n",
    "Classsheet           = Classfile.sheet_by_name('MAIN_Table')\n",
    "MasterClassification = msf.ParseClassificationFile_Main(Classsheet,Mylog)\n",
    "\n",
    "\n",
    "Mylog.info('Define model classifications and select items for model classifications according to information provided by config file.')\n",
    "ModelClassification  = {} # Dict of model classifications\n",
    "for m in range(0,len(IT_Aspects)):\n",
    "    ModelClassification[IT_Aspects[m]] = deepcopy(MasterClassification[IT_Classification[m]])\n",
    "    EvalString = msf.EvalItemSelectString(IT_Selector[m],len(ModelClassification[IT_Aspects[m]].Items))\n",
    "    if EvalString.find(':') > -1: # range of items is taken\n",
    "        RangeStart = int(EvalString[0:EvalString.find(':')])\n",
    "        RangeStop  = int(EvalString[EvalString.find(':')+1::])\n",
    "        ModelClassification[IT_Aspects[m]].Items = ModelClassification[IT_Aspects[m]].Items[RangeStart:RangeStop]           \n",
    "    elif EvalString.find('[') > -1: # selected items are taken\n",
    "        ModelClassification[IT_Aspects[m]].Items = [ModelClassification[IT_Aspects[m]].Items[i] for i in eval(EvalString)]\n",
    "    elif EvalString == 'all':\n",
    "        None\n",
    "    else:\n",
    "        Mylog.error('Item select error for aspect ' + IT_Aspects[m] + ' were found in datafile.')\n",
    "        break\n",
    "\n",
    "# Define model index table and parameter dictionary\n",
    "Mylog.info('### 2.2 - Define model index table and parameter dictionary')\n",
    "Model_Time_Start = int(min(ModelClassification['Time'].Items))\n",
    "Model_Time_End   = int(max(ModelClassification['Time'].Items))\n",
    "Model_Duration   = Model_Time_End - Model_Time_Start + 1\n",
    "\n",
    "Mylog.info('Define index table dataframe.')\n",
    "IndexTable = pd.DataFrame({'Aspect'        : IT_Aspects,  # 'Time' and 'Element' must be present!\n",
    "                           'Description'   : IT_Description,\n",
    "                           'Dimension'     : IT_Dimension,\n",
    "                           'Classification': [ModelClassification[Aspect] for Aspect in IT_Aspects],\n",
    "                           'IndexLetter'   : IT_IndexLetter})  # Unique one letter (upper or lower case) indices to be used later for calculations.\n",
    "\n",
    "# Default indexing of IndexTable, other indices are produced on the fly\n",
    "IndexTable.set_index('Aspect', inplace=True)\n",
    "\n",
    "# Add indexSize to IndexTable:\n",
    "IndexTable['IndexSize'] = pd.Series([len(IndexTable.Classification[i].Items) for i in range(0, len(IndexTable.IndexLetter))],\n",
    "                                    index=IndexTable.index)\n",
    "\n",
    "# list of the classifications used for each indexletter\n",
    "IndexTable_ClassificationNames = [IndexTable.Classification[i].Name for i in range(0, len(IndexTable.IndexLetter))]\n",
    "\n",
    "\n",
    "# Define dimension sizes\n",
    "Nt = len(IndexTable.Classification[IndexTable.index.get_loc('Time')].Items)\n",
    "Nc = len(IndexTable.Classification[IndexTable.index.get_loc('Age-cohort')].Items)\n",
    "Ng = len(IndexTable.Classification[IndexTable.index.get_loc('Drive_train')].Items)\n",
    "Ne = len(IndexTable.Classification[IndexTable.index.get_loc('Element')].Items)\n",
    "Nb = len(IndexTable.Classification[IndexTable.index.get_loc('Battery_Chemistry')].Items)\n",
    "Ns = len(IndexTable.Classification[IndexTable.index.get_loc('Size')].Items)\n",
    "Nh = len(IndexTable.Classification[IndexTable.index.get_loc('Recycling_Process')].Items)\n",
    "NS = len(IndexTable.Classification[IndexTable.index.get_loc('EV_penetration_scenario')].Items)\n",
    "Na = len(IndexTable.Classification[IndexTable.index.get_loc('Chemistry_Scenarios')].Items)\n",
    "Nz = len(IndexTable.Classification[IndexTable.index.get_loc('Stock_Scenarios')].Items)\n",
    "NR = len(IndexTable.Classification[IndexTable.index.get_loc('Reuse_Scenarios')].Items)\n",
    "NE = len(IndexTable.Classification[IndexTable.index.get_loc('Energy_Storage_Scenarios')].Items)\n",
    "Nv = len(IndexTable.Classification[IndexTable.index.get_loc('V2G_Scenarios')].Items)"
   ]
  },
  {
   "cell_type": "markdown",
   "metadata": {},
   "source": [
    "### Importing datasheet with targets to make fits"
   ]
  },
  {
   "cell_type": "code",
   "execution_count": 2,
   "metadata": {},
   "outputs": [],
   "source": [
    "# Defining path to raw data\n",
    "data_path = os.path.join(os.getcwd(), 'data', 'raw_data')"
   ]
  },
  {
   "cell_type": "code",
   "execution_count": 3,
   "metadata": {},
   "outputs": [
    {
     "name": "stdout",
     "output_type": "stream",
     "text": [
      "       Scenario Drive_train  Time                   value\n",
      "0        No V2G         BEV  2020  0.00000000000000000000\n",
      "1        No V2G         BEV  2030  0.00000000000000000000\n",
      "2        No V2G         BEV  2050  0.00000000000000000000\n",
      "3           Low         BEV  2020  0.00000000000000000000\n",
      "4           Low         BEV  2030  0.10000000000000000555\n",
      "5           Low         BEV  2050  0.20000000000000001110\n",
      "6      Moderate         BEV  2020  0.00000000000000000000\n",
      "7      Moderate         BEV  2030  0.17499999999999998890\n",
      "8      Moderate         BEV  2050  0.29999999999999998890\n",
      "9          High         BEV  2020  0.00000000000000000000\n",
      "10         High         BEV  2030  0.26500000000000001332\n",
      "11         High         BEV  2050  0.69999999999999995559\n",
      "12  V2G mandate         BEV  2020  0.00000000000000000000\n",
      "13  V2G mandate         BEV  2028  0.11999999999999999556\n",
      "14  V2G mandate         BEV  2031  0.50000000000000000000\n",
      "15  V2G mandate         BEV  2035  0.88000000000000000444\n",
      "16  V2G mandate         BEV  2050  0.90000000000000002220\n",
      "17        Early         BEV  2020  0.00000000000000000000\n",
      "18        Early         BEV  2024  0.11999999999999999556\n",
      "19        Early         BEV  2027  0.50000000000000000000\n",
      "20        Early         BEV  2031  0.88000000000000000444\n",
      "21        Early         BEV  2050  0.90000000000000002220\n"
     ]
    }
   ],
   "source": [
    "# Importing data\n",
    "df = pd.read_excel(data_path+'/V2G_scenarios.xlsx')\n",
    "# df.head()\n",
    "with pd.option_context('display.max_rows', None,\n",
    "                       'display.max_columns', None,\n",
    "                       'display.precision', 20,\n",
    "                       ):\n",
    "    print(df)"
   ]
  },
  {
   "cell_type": "code",
   "execution_count": 4,
   "metadata": {},
   "outputs": [
    {
     "data": {
      "text/plain": [
       "array(['No V2G', 'Low', 'Moderate', 'High', 'V2G mandate', 'Early'],\n",
       "      dtype=object)"
      ]
     },
     "execution_count": 4,
     "metadata": {},
     "output_type": "execute_result"
    }
   ],
   "source": [
    "df['Scenario'].unique()"
   ]
  },
  {
   "cell_type": "markdown",
   "metadata": {},
   "source": [
    "### Creating logistic fits"
   ]
  },
  {
   "cell_type": "code",
   "execution_count": 5,
   "metadata": {},
   "outputs": [
    {
     "name": "stderr",
     "output_type": "stream",
     "text": [
      "/Users/fernaag/opt/anaconda3/envs/V2G/lib/python3.10/site-packages/scipy/optimize/minpack.py:833: OptimizeWarning: Covariance of the parameters could not be estimated\n",
      "  warnings.warn('Covariance of the parameters could not be estimated',\n"
     ]
    }
   ],
   "source": [
    "# Create logistic fits\n",
    "t = np.arange(1950,2051)\n",
    "fit = np.zeros((6, Ng,Nt))\n",
    "for i,s in enumerate(df['Scenario'].unique()):\n",
    "            popt, pcov = curve_fit(logistic, df.loc[(df['Scenario']==s) & (df['Drive_train']=='BEV'), 'Time'].values, df.loc[(df['Scenario']==s) & (df['Drive_train']=='BEV'), 'value'].values, bounds=([2020, 0., 0, 0], [2050, 10, 1, 1])) # Bounds are set as ([low_ti, low_tau, low_Co, low_C1],[high_ti,high_tau, high_Co, high_C1 ])\n",
    "            fit[i,1,:] = logistic(t, *popt)\n"
   ]
  },
  {
   "cell_type": "markdown",
   "metadata": {},
   "source": [
    "### Plotting results"
   ]
  },
  {
   "cell_type": "code",
   "execution_count": 6,
   "metadata": {},
   "outputs": [
    {
     "data": {
      "image/png": "[encoded data removed]",
      "text/plain": [
       "<Figure size 432x288 with 1 Axes>"
      ]
     },
     "metadata": {
      "needs_background": "light"
     },
     "output_type": "display_data"
    }
   ],
   "source": [
    "MyColorCycle = pylab.cm.Paired(np.arange(0,1,0.1)) # select 10 colors from the 'Paired' color map.\n",
    "fig, ax = plt.subplots()\n",
    "ax.plot(t[69:], fit[0,1,69:],label='No V2G')\n",
    "ax.plot(t[69:], fit[1,1,69::], label='Low')\n",
    "ax.plot(t[69:], fit[2,1,69:], label='Moderate')\n",
    "ax.plot(t[69:], fit[3,1,69:],label='High')\n",
    "ax.plot(t[69:], fit[4,1,69:], label='V2G mandate')\n",
    "# ax.plot(t[69:], fit[5,1,69:],label='Early')\n",
    "# ax.plot(df.loc[(df['Scenario']=='Low') & (df['Drive_train']=='BEV'), 'Time'].values, df.loc[(df['Scenario']=='Low') & (df['Drive_train']=='BEV'), 'value'].values, 'x', label='Low data')\n",
    "# ax.plot(df.loc[(df['Scenario']=='Moderate') & (df['Drive_train']=='BEV'), 'Time'].values, df.loc[(df['Scenario']=='Moderate') & (df['Drive_train']=='BEV'), 'value'].values,'x',label='Moderate data')\n",
    "# ax.plot(df.loc[(df['Scenario']=='High') & (df['Drive_train']=='BEV'), 'Time'].values, df.loc[(df['Scenario']=='High') & (df['Drive_train']=='BEV'), 'value'].values,'x',label='High data')\n",
    "ax.legend( loc='best',prop={'size':10})\n",
    "ax.set_ylabel('Share of sales [%]',fontsize =16)\n",
    "ax.set_title('V2G ratio scenarios'.format(s), fontsize=16)\n",
    "ax.set_xlabel('Year',fontsize =16)\n",
    "fig.savefig(os.path.join(os.getcwd(), 'SI/v2g_scenarios'), dpi=600)"
   ]
  },
  {
   "cell_type": "markdown",
   "metadata": {},
   "source": [
    "## Preparing V2G ratio\n",
    "Since the aim of V2G is to make use of oversized and underused LIBs, we assume that only BEVs participate in the V2G market. \n",
    "We define scenarios for the V2G penetration which apply only to BEVs and that change over time. "
   ]
  },
  {
   "cell_type": "code",
   "execution_count": 35,
   "metadata": {},
   "outputs": [],
   "source": [
    "V2GArray = np.zeros((Nv,Ng,Nt))"
   ]
  },
  {
   "cell_type": "code",
   "execution_count": 36,
   "metadata": {},
   "outputs": [],
   "source": [
    "# Defining empty DataFrame with the desired dimensions\n",
    "lp0, lp1, lp2 = pd.core.reshape.util.cartesian_product([IndexTable.Classification[IndexTable.index.get_loc('V2G_Scenarios')].Items,IndexTable.Classification[IndexTable.index.get_loc('Drive_train')].Items, IndexTable.Classification[IndexTable.index.get_loc('Time')].Items])\n",
    "data = pd.DataFrame(dict(Scenario= lp0, Drive_train=lp1, Time=lp2))"
   ]
  },
  {
   "cell_type": "markdown",
   "metadata": {},
   "source": [
    "### Add values to dataframe and fill with zeroes if NaN"
   ]
  },
  {
   "cell_type": "code",
   "execution_count": 37,
   "metadata": {},
   "outputs": [],
   "source": [
    "data.loc[(data['Drive_train']=='BEV') & (data['Scenario']=='No V2G'), 'value'] = 0\n",
    "data.loc[(data['Drive_train']=='BEV') & (data['Scenario']=='Low'), 'value'] = fit[1,1,:]\n",
    "data.loc[(data['Drive_train']=='BEV') & (data['Scenario']=='Medium'), 'value'] = fit[3,1,:]\n",
    "data.loc[(data['Drive_train']=='BEV') & (data['Scenario']=='V2G mandate'), 'value'] = fit[4,1,:]\n"
   ]
  },
  {
   "cell_type": "code",
   "execution_count": 38,
   "metadata": {},
   "outputs": [],
   "source": [
    "data.fillna(0, inplace=True)"
   ]
  },
  {
   "cell_type": "code",
   "execution_count": 39,
   "metadata": {},
   "outputs": [],
   "source": [
    "# define results path\n",
    "results_path = os.path.join(os.getcwd(), 'data', 'scenario_data')"
   ]
  },
  {
   "cell_type": "code",
   "execution_count": 40,
   "metadata": {},
   "outputs": [],
   "source": [
    "# Save as excel for overview\n",
    "data.to_excel(results_path+'/V2G_ratio.xlsx')"
   ]
  },
  {
   "cell_type": "code",
   "execution_count": 41,
   "metadata": {},
   "outputs": [
    {
     "data": {
      "text/html": [
       "<div>\n",
       "<style scoped>\n",
       "    .dataframe tbody tr th:only-of-type {\n",
       "        vertical-align: middle;\n",
       "    }\n",
       "\n",
       "    .dataframe tbody tr th {\n",
       "        vertical-align: top;\n",
       "    }\n",
       "\n",
       "    .dataframe thead th {\n",
       "        text-align: right;\n",
       "    }\n",
       "</style>\n",
       "<table border=\"1\" class=\"dataframe\">\n",
       "  <thead>\n",
       "    <tr style=\"text-align: right;\">\n",
       "      <th></th>\n",
       "      <th>Scenario</th>\n",
       "      <th>Drive_train</th>\n",
       "      <th>Time</th>\n",
       "      <th>value</th>\n",
       "    </tr>\n",
       "  </thead>\n",
       "  <tbody>\n",
       "    <tr>\n",
       "      <td>101</td>\n",
       "      <td>No V2G</td>\n",
       "      <td>BEV</td>\n",
       "      <td>1950.0</td>\n",
       "      <td>0.000000</td>\n",
       "    </tr>\n",
       "    <tr>\n",
       "      <td>102</td>\n",
       "      <td>No V2G</td>\n",
       "      <td>BEV</td>\n",
       "      <td>1951.0</td>\n",
       "      <td>0.000000</td>\n",
       "    </tr>\n",
       "    <tr>\n",
       "      <td>103</td>\n",
       "      <td>No V2G</td>\n",
       "      <td>BEV</td>\n",
       "      <td>1952.0</td>\n",
       "      <td>0.000000</td>\n",
       "    </tr>\n",
       "    <tr>\n",
       "      <td>104</td>\n",
       "      <td>No V2G</td>\n",
       "      <td>BEV</td>\n",
       "      <td>1953.0</td>\n",
       "      <td>0.000000</td>\n",
       "    </tr>\n",
       "    <tr>\n",
       "      <td>105</td>\n",
       "      <td>No V2G</td>\n",
       "      <td>BEV</td>\n",
       "      <td>1954.0</td>\n",
       "      <td>0.000000</td>\n",
       "    </tr>\n",
       "    <tr>\n",
       "      <td>...</td>\n",
       "      <td>...</td>\n",
       "      <td>...</td>\n",
       "      <td>...</td>\n",
       "      <td>...</td>\n",
       "    </tr>\n",
       "    <tr>\n",
       "      <td>1409</td>\n",
       "      <td>V2G mandate</td>\n",
       "      <td>BEV</td>\n",
       "      <td>2046.0</td>\n",
       "      <td>0.908278</td>\n",
       "    </tr>\n",
       "    <tr>\n",
       "      <td>1410</td>\n",
       "      <td>V2G mandate</td>\n",
       "      <td>BEV</td>\n",
       "      <td>2047.0</td>\n",
       "      <td>0.908285</td>\n",
       "    </tr>\n",
       "    <tr>\n",
       "      <td>1411</td>\n",
       "      <td>V2G mandate</td>\n",
       "      <td>BEV</td>\n",
       "      <td>2048.0</td>\n",
       "      <td>0.908289</td>\n",
       "    </tr>\n",
       "    <tr>\n",
       "      <td>1412</td>\n",
       "      <td>V2G mandate</td>\n",
       "      <td>BEV</td>\n",
       "      <td>2049.0</td>\n",
       "      <td>0.908290</td>\n",
       "    </tr>\n",
       "    <tr>\n",
       "      <td>1413</td>\n",
       "      <td>V2G mandate</td>\n",
       "      <td>BEV</td>\n",
       "      <td>2050.0</td>\n",
       "      <td>0.908291</td>\n",
       "    </tr>\n",
       "  </tbody>\n",
       "</table>\n",
       "<p>404 rows × 4 columns</p>\n",
       "</div>"
      ],
      "text/plain": [
       "         Scenario Drive_train    Time     value\n",
       "101        No V2G         BEV  1950.0  0.000000\n",
       "102        No V2G         BEV  1951.0  0.000000\n",
       "103        No V2G         BEV  1952.0  0.000000\n",
       "104        No V2G         BEV  1953.0  0.000000\n",
       "105        No V2G         BEV  1954.0  0.000000\n",
       "...           ...         ...     ...       ...\n",
       "1409  V2G mandate         BEV  2046.0  0.908278\n",
       "1410  V2G mandate         BEV  2047.0  0.908285\n",
       "1411  V2G mandate         BEV  2048.0  0.908289\n",
       "1412  V2G mandate         BEV  2049.0  0.908290\n",
       "1413  V2G mandate         BEV  2050.0  0.908291\n",
       "\n",
       "[404 rows x 4 columns]"
      ]
     },
     "execution_count": 41,
     "metadata": {},
     "output_type": "execute_result"
    }
   ],
   "source": [
    "data.loc[data['Drive_train']=='BEV']"
   ]
  },
  {
   "cell_type": "code",
   "execution_count": 42,
   "metadata": {},
   "outputs": [],
   "source": [
    "for m in range(0,len(data['Time'])):\n",
    "    ScenarioPosition = IndexTable.Classification[IndexTable.index.get_loc('V2G_Scenarios')].Items.index(data['Scenario'].iloc[m])\n",
    "    DriveTrainPosition = IndexTable.Classification[IndexTable.index.get_loc('Drive_train')].Items.index(data['Drive_train'].iloc[m])\n",
    "    TimePosition = IndexTable.Classification[IndexTable.index.get_loc('Time')].Items.index(data['Time'].iloc[m])\n",
    "    V2GArray[ScenarioPosition, DriveTrainPosition, TimePosition] = data['value'].iloc[m]"
   ]
  },
  {
   "cell_type": "code",
   "execution_count": 43,
   "metadata": {},
   "outputs": [],
   "source": [
    "np.save(results_path+'/V2G_ratio', V2GArray, allow_pickle=True)"
   ]
  }
 ],
 "metadata": {
  "kernelspec": {
   "display_name": "Python 3.10.0 ('V2G')",
   "language": "python",
   "name": "python3"
  },
  "language_info": {
   "codemirror_mode": {
    "name": "ipython",
    "version": 3
   },
   "file_extension": ".py",
   "mimetype": "text/x-python",
   "name": "python",
   "nbconvert_exporter": "python",
   "pygments_lexer": "ipython3",
   "version": "3.10.0"
  },
  "metadata": {
   "interpreter": {
    "hash": "d2e968add10d64ad2b3be6e57835fc773ce9c934140c61480cbe8a7410362424"
   }
  },
  "vscode": {
   "interpreter": {
    "hash": "39669936ac2100964f3e41c1a03efadfcbbb30d16701996aa15fea40b1bc6652"
   }
  }
 },
 "nbformat": 4,
 "nbformat_minor": 4
}
