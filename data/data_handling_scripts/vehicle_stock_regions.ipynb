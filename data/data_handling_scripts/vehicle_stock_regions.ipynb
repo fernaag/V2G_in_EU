{
 "cells": [
  {
   "cell_type": "markdown",
   "metadata": {},
   "source": [
    "# Reshaping data for model\n",
    "### In this file, we will take the data that has been gathered and harmonized and we will fit it, create scenarios, and save it as a structured array for the model. Since we would like to keep the flexibility with excel, we will also save it in an ODYM compatible format and create a file that can do the reverse: if teh excel file is eddited, so is the array. This will be a separate script"
   ]
  },
  {
   "cell_type": "code",
   "execution_count": 1,
   "metadata": {},
   "outputs": [
    {
     "name": "stderr",
     "output_type": "stream",
     "text": [
      "INFO (1016242459.py <<module>>): ### 1. - Initialize.\n",
      "INFO (1016242459.py <<module>>): Read and parse config table, including the model index table, from model config sheet.\n",
      "INFO (ODYM_Functions.py <ParseConfigFile>): Read parameter list from model config sheet.\n",
      "INFO (ODYM_Functions.py <ParseConfigFile>): Read process list from model config sheet.\n",
      "INFO (ODYM_Functions.py <ParseConfigFile>): Read model run control from model config sheet.\n",
      "INFO (ODYM_Functions.py <ParseConfigFile>): Read model output control from model config sheet.\n",
      "INFO (ODYM_Functions.py <ParseClassificationFile_Main>): End of file or formatting error while reading the classification file in column 16. Check if all classifications are present. If yes, you are good to go!\n",
      "INFO (1016242459.py <<module>>): Define model classifications and select items for model classifications according to information provided by config file.\n",
      "INFO (1016242459.py <<module>>): ### 2.2 - Define model index table and parameter dictionary\n",
      "INFO (1016242459.py <<module>>): Define index table dataframe.\n"
     ]
    },
    {
     "name": "stdout",
     "output_type": "stream",
     "text": [
      "Vehicle stock model for European fleet\n"
     ]
    }
   ],
   "source": [
    "# Load a local copy of the current ODYM branch:\n",
    "import sys\n",
    "import os\n",
    "import numpy as np\n",
    "import pandas as pd\n",
    "import pickle\n",
    "import matplotlib.pyplot as plt\n",
    "from seaborn.palettes import color_palette\n",
    "import xlrd\n",
    "import pylab\n",
    "from copy import deepcopy\n",
    "import logging as log\n",
    "import xlwt\n",
    "import tqdm\n",
    "import math\n",
    "from scipy.stats import norm\n",
    "from tqdm import tqdm\n",
    "from scipy.optimize import curve_fit\n",
    "import matplotlib\n",
    "from logistic import logistic as logistic\n",
    "mpl_logger = log.getLogger(\"matplotlib\")\n",
    "mpl_logger.setLevel(log.WARNING)  \n",
    "# For Ipython Notebook only\n",
    "### Preamble\n",
    "# Going to parent path\n",
    "xlrd.xlsx.ensure_elementtree_imported(False, None)\n",
    "xlrd.xlsx.Element_has_iter = True\n",
    "os.getcwd()\n",
    "os.chdir(\"..\")\n",
    "os.chdir(\"..\")\n",
    "\n",
    "# add ODYM module directory to system path, relative\n",
    "MainPath = os.path.join(os.getcwd(), 'odym', 'modules')\n",
    "sys.path.insert(0, MainPath)\n",
    "\n",
    "# add ODYM module directory to system path, absolute\n",
    "sys.path.insert(0, os.path.join(os.getcwd(), 'odym', 'modules'))\n",
    "\n",
    "# Specify path to dynamic stock model and to datafile, relative\n",
    "DataPath = os.path.join( 'docs', 'files')\n",
    "\n",
    "# Specify path to dynamic stock model and to datafile, absolute\n",
    "DataPath = os.path.join(os.getcwd(), 'docs', 'Files')\n",
    "\n",
    "import ODYM_Classes as msc # import the ODYM class file\n",
    "import ODYM_Functions as msf # import the ODYM function file\n",
    "import dynamic_stock_model as dsm # import the dynamic stock model library\n",
    "\n",
    "# Initialize loggin routine\n",
    "log_verbosity = eval(\"log.DEBUG\")\n",
    "log_filename = 'LogFileTest.md'\n",
    "[Mylog, console_log, file_log] = msf.function_logger(log_filename, os.getcwd(),\n",
    "                                                     log_verbosity, log_verbosity)\n",
    "Mylog.info('### 1. - Initialize.')\n",
    "\n",
    "#Read main script parameters\n",
    "#Load project-specific config file\n",
    "ProjectSpecs_ConFile = 'ODYM_Config_Vehicle_System.xlsx'\n",
    "Model_Configfile     = xlrd.open_workbook(os.path.join(DataPath, ProjectSpecs_ConFile))\n",
    "ScriptConfig         = {'Model Setting': Model_Configfile.sheet_by_name('Config').cell_value(3,3)} # Dictionary with config parameters\n",
    "Model_Configsheet    = Model_Configfile.sheet_by_name('Setting_' + ScriptConfig['Model Setting'])\n",
    "\n",
    "Name_Scenario        = Model_Configsheet.cell_value(3,3)\n",
    "print(Name_Scenario)\n",
    "\n",
    "#Read control and selection parameters into dictionary\n",
    "ScriptConfig         = msf.ParseModelControl(Model_Configsheet,ScriptConfig)\n",
    "\n",
    "Mylog.info('Read and parse config table, including the model index table, from model config sheet.')\n",
    "IT_Aspects,IT_Description,IT_Dimension,IT_Classification,IT_Selector,IT_IndexLetter,\\\n",
    "PL_Names,PL_Description,PL_Version,PL_IndexStructure,PL_IndexMatch,PL_IndexLayer,\\\n",
    "PrL_Number,PrL_Name,PrL_Comment,PrL_Type,ScriptConfig = msf.ParseConfigFile(Model_Configsheet,ScriptConfig,Mylog)    \n",
    "\n",
    "class_filename       = 'ODYM_Classifications_Master_Vehicle_System.xlsx'\n",
    "Classfile            = xlrd.open_workbook(os.path.join(DataPath,class_filename))\n",
    "Classsheet           = Classfile.sheet_by_name('MAIN_Table')\n",
    "MasterClassification = msf.ParseClassificationFile_Main(Classsheet,Mylog)\n",
    "\n",
    "\n",
    "Mylog.info('Define model classifications and select items for model classifications according to information provided by config file.')\n",
    "ModelClassification  = {} # Dict of model classifications\n",
    "for m in range(0,len(IT_Aspects)):\n",
    "    ModelClassification[IT_Aspects[m]] = deepcopy(MasterClassification[IT_Classification[m]])\n",
    "    EvalString = msf.EvalItemSelectString(IT_Selector[m],len(ModelClassification[IT_Aspects[m]].Items))\n",
    "    if EvalString.find(':') > -1: # range of items is taken\n",
    "        RangeStart = int(EvalString[0:EvalString.find(':')])\n",
    "        RangeStop  = int(EvalString[EvalString.find(':')+1::])\n",
    "        ModelClassification[IT_Aspects[m]].Items = ModelClassification[IT_Aspects[m]].Items[RangeStart:RangeStop]           \n",
    "    elif EvalString.find('[') > -1: # selected items are taken\n",
    "        ModelClassification[IT_Aspects[m]].Items = [ModelClassification[IT_Aspects[m]].Items[i] for i in eval(EvalString)]\n",
    "    elif EvalString == 'all':\n",
    "        None\n",
    "    else:\n",
    "        Mylog.error('Item select error for aspect ' + IT_Aspects[m] + ' were found in datafile.')\n",
    "        break\n",
    "\n",
    "# Define model index table and parameter dictionary\n",
    "Mylog.info('### 2.2 - Define model index table and parameter dictionary')\n",
    "Model_Time_Start = int(min(ModelClassification['Time'].Items))\n",
    "Model_Time_End   = int(max(ModelClassification['Time'].Items))\n",
    "Model_Duration   = Model_Time_End - Model_Time_Start + 1\n",
    "\n",
    "Mylog.info('Define index table dataframe.')\n",
    "IndexTable = pd.DataFrame({'Aspect'        : IT_Aspects,  # 'Time' and 'Element' must be present!\n",
    "                           'Description'   : IT_Description,\n",
    "                           'Dimension'     : IT_Dimension,\n",
    "                           'Classification': [ModelClassification[Aspect] for Aspect in IT_Aspects],\n",
    "                           'IndexLetter'   : IT_IndexLetter})  # Unique one letter (upper or lower case) indices to be used later for calculations.\n",
    "\n",
    "# Default indexing of IndexTable, other indices are produced on the fly\n",
    "IndexTable.set_index('Aspect', inplace=True)\n",
    "\n",
    "# Add indexSize to IndexTable:\n",
    "IndexTable['IndexSize'] = pd.Series([len(IndexTable.Classification[i].Items) for i in range(0, len(IndexTable.IndexLetter))],\n",
    "                                    index=IndexTable.index)\n",
    "\n",
    "# list of the classifications used for each indexletter\n",
    "IndexTable_ClassificationNames = [IndexTable.Classification[i].Name for i in range(0, len(IndexTable.IndexLetter))]\n",
    "\n",
    "\n",
    "# Define dimension sizes\n",
    "Nt = len(IndexTable.Classification[IndexTable.index.get_loc('Time')].Items)\n",
    "Nc = len(IndexTable.Classification[IndexTable.index.get_loc('Age-cohort')].Items)\n",
    "Ng = len(IndexTable.Classification[IndexTable.index.get_loc('Drive_train')].Items)\n",
    "Ne = len(IndexTable.Classification[IndexTable.index.get_loc('Element')].Items)\n",
    "Nb = len(IndexTable.Classification[IndexTable.index.get_loc('Battery_Chemistry')].Items)\n",
    "Ns = len(IndexTable.Classification[IndexTable.index.get_loc('Size')].Items)\n",
    "Nh = len(IndexTable.Classification[IndexTable.index.get_loc('Recycling_Process')].Items)\n",
    "NS = len(IndexTable.Classification[IndexTable.index.get_loc('EV_penetration_scenario')].Items)\n",
    "Na = len(IndexTable.Classification[IndexTable.index.get_loc('Chemistry_Scenarios')].Items)\n",
    "Nz = len(IndexTable.Classification[IndexTable.index.get_loc('Stock_Scenarios')].Items)\n",
    "NR = len(IndexTable.Classification[IndexTable.index.get_loc('Reuse_Scenarios')].Items)\n",
    "NE = len(IndexTable.Classification[IndexTable.index.get_loc('Energy_Storage_Scenarios')].Items)\n",
    "Nv = len(IndexTable.Classification[IndexTable.index.get_loc('V2G_Scenarios')].Items)"
   ]
  },
  {
   "cell_type": "markdown",
   "metadata": {},
   "source": [
    "## Use latest dataset from OICA for vehicle stock"
   ]
  },
  {
   "cell_type": "code",
   "execution_count": 2,
   "metadata": {},
   "outputs": [
    {
     "data": {
      "text/html": [
       "<div>\n",
       "<style scoped>\n",
       "    .dataframe tbody tr th:only-of-type {\n",
       "        vertical-align: middle;\n",
       "    }\n",
       "\n",
       "    .dataframe tbody tr th {\n",
       "        vertical-align: top;\n",
       "    }\n",
       "\n",
       "    .dataframe thead th {\n",
       "        text-align: right;\n",
       "    }\n",
       "</style>\n",
       "<table border=\"1\" class=\"dataframe\">\n",
       "  <thead>\n",
       "    <tr style=\"text-align: right;\">\n",
       "      <th></th>\n",
       "      <th>REGIONS/COUNTRIES</th>\n",
       "      <th>Unnamed: 1</th>\n",
       "      <th>Unnamed: 2</th>\n",
       "      <th>Unnamed: 3</th>\n",
       "      <th>2005</th>\n",
       "      <th>2006</th>\n",
       "      <th>2007</th>\n",
       "      <th>2008</th>\n",
       "      <th>2009</th>\n",
       "      <th>2010</th>\n",
       "      <th>2011</th>\n",
       "      <th>2012</th>\n",
       "      <th>2013</th>\n",
       "      <th>2014</th>\n",
       "      <th>2015</th>\n",
       "      <th>Unnamed: 15</th>\n",
       "      <th>Variation 2015/2014</th>\n",
       "    </tr>\n",
       "  </thead>\n",
       "  <tbody>\n",
       "    <tr>\n",
       "      <th>0</th>\n",
       "      <td>NaN</td>\n",
       "      <td>NaN</td>\n",
       "      <td>NaN</td>\n",
       "      <td>NaN</td>\n",
       "      <td>in thousand units</td>\n",
       "      <td>NaN</td>\n",
       "      <td>NaN</td>\n",
       "      <td>NaN</td>\n",
       "      <td>NaN</td>\n",
       "      <td>NaN</td>\n",
       "      <td>NaN</td>\n",
       "      <td>NaN</td>\n",
       "      <td>NaN</td>\n",
       "      <td>NaN</td>\n",
       "      <td>NaN</td>\n",
       "      <td>NaN</td>\n",
       "      <td>NaN</td>\n",
       "    </tr>\n",
       "    <tr>\n",
       "      <th>1</th>\n",
       "      <td>EUROPE</td>\n",
       "      <td>NaN</td>\n",
       "      <td>NaN</td>\n",
       "      <td>NaN</td>\n",
       "      <td>276662.662</td>\n",
       "      <td>282958.387</td>\n",
       "      <td>286109.448</td>\n",
       "      <td>294524.057</td>\n",
       "      <td>298202.450</td>\n",
       "      <td>303360.968</td>\n",
       "      <td>309504.270</td>\n",
       "      <td>314674.338</td>\n",
       "      <td>321125.574</td>\n",
       "      <td>326843.229</td>\n",
       "      <td>333553.037</td>\n",
       "      <td>NaN</td>\n",
       "      <td>0.020529</td>\n",
       "    </tr>\n",
       "    <tr>\n",
       "      <th>2</th>\n",
       "      <td>EU 28 countries + EFTA</td>\n",
       "      <td>NaN</td>\n",
       "      <td>NaN</td>\n",
       "      <td>NaN</td>\n",
       "      <td>234823.125</td>\n",
       "      <td>239118.016</td>\n",
       "      <td>238743.582</td>\n",
       "      <td>243450.584</td>\n",
       "      <td>245232.556</td>\n",
       "      <td>248213.966</td>\n",
       "      <td>251245.927</td>\n",
       "      <td>253591.321</td>\n",
       "      <td>256135.079</td>\n",
       "      <td>258637.360</td>\n",
       "      <td>263399.404</td>\n",
       "      <td>NaN</td>\n",
       "      <td>0.018412</td>\n",
       "    </tr>\n",
       "    <tr>\n",
       "      <th>3</th>\n",
       "      <td>EU 15 countries + EFTA</td>\n",
       "      <td>NaN</td>\n",
       "      <td>NaN</td>\n",
       "      <td>NaN</td>\n",
       "      <td>202827.821</td>\n",
       "      <td>206373.200</td>\n",
       "      <td>203635.883</td>\n",
       "      <td>205545.628</td>\n",
       "      <td>206520.616</td>\n",
       "      <td>208740.752</td>\n",
       "      <td>210843.397</td>\n",
       "      <td>211824.866</td>\n",
       "      <td>213122.502</td>\n",
       "      <td>214930.009</td>\n",
       "      <td>218052.596</td>\n",
       "      <td>NaN</td>\n",
       "      <td>0.014528</td>\n",
       "    </tr>\n",
       "    <tr>\n",
       "      <th>4</th>\n",
       "      <td>AUSTRIA</td>\n",
       "      <td>NaN</td>\n",
       "      <td>NaN</td>\n",
       "      <td>NaN</td>\n",
       "      <td>4157</td>\n",
       "      <td>4205.000</td>\n",
       "      <td>4246.000</td>\n",
       "      <td>4285.000</td>\n",
       "      <td>4360.000</td>\n",
       "      <td>4441.000</td>\n",
       "      <td>4513.000</td>\n",
       "      <td>4584.000</td>\n",
       "      <td>4641.308</td>\n",
       "      <td>4694.921</td>\n",
       "      <td>4748.048</td>\n",
       "      <td>NaN</td>\n",
       "      <td>0.011316</td>\n",
       "    </tr>\n",
       "  </tbody>\n",
       "</table>\n",
       "</div>"
      ],
      "text/plain": [
       "        REGIONS/COUNTRIES  Unnamed: 1  Unnamed: 2  Unnamed: 3  \\\n",
       "0                     NaN         NaN         NaN         NaN   \n",
       "1                  EUROPE         NaN         NaN         NaN   \n",
       "2  EU 28 countries + EFTA         NaN         NaN         NaN   \n",
       "3  EU 15 countries + EFTA         NaN         NaN         NaN   \n",
       "4                 AUSTRIA         NaN         NaN         NaN   \n",
       "\n",
       "                2005        2006        2007        2008        2009  \\\n",
       "0  in thousand units         NaN         NaN         NaN         NaN   \n",
       "1         276662.662  282958.387  286109.448  294524.057  298202.450   \n",
       "2         234823.125  239118.016  238743.582  243450.584  245232.556   \n",
       "3         202827.821  206373.200  203635.883  205545.628  206520.616   \n",
       "4               4157    4205.000    4246.000    4285.000    4360.000   \n",
       "\n",
       "         2010        2011        2012        2013        2014        2015  \\\n",
       "0         NaN         NaN         NaN         NaN         NaN         NaN   \n",
       "1  303360.968  309504.270  314674.338  321125.574  326843.229  333553.037   \n",
       "2  248213.966  251245.927  253591.321  256135.079  258637.360  263399.404   \n",
       "3  208740.752  210843.397  211824.866  213122.502  214930.009  218052.596   \n",
       "4    4441.000    4513.000    4584.000    4641.308    4694.921    4748.048   \n",
       "\n",
       "   Unnamed: 15  Variation 2015/2014  \n",
       "0          NaN                  NaN  \n",
       "1          NaN             0.020529  \n",
       "2          NaN             0.018412  \n",
       "3          NaN             0.014528  \n",
       "4          NaN             0.011316  "
      ]
     },
     "execution_count": 2,
     "metadata": {},
     "output_type": "execute_result"
    }
   ],
   "source": [
    "# Defining path to raw data\n",
    "data_path = os.path.join(os.getcwd(), 'data', 'raw_data')\n",
    "# Importing data\n",
    "ius = pd.read_excel(data_path+'/PC_Vehicles-in-use.xlsx', skiprows=5)\n",
    "ius.head()"
   ]
  },
  {
   "cell_type": "code",
   "execution_count": 3,
   "metadata": {},
   "outputs": [
    {
     "data": {
      "text/plain": [
       "array([nan, 'EUROPE', 'EU 28 countries + EFTA', 'EU 15 countries + EFTA',\n",
       "       'AUSTRIA', 'BELGIUM', 'DENMARK', 'FINLAND', 'FRANCE', 'GERMANY',\n",
       "       'GREECE', 'ICELAND', 'IRELAND', 'ITALY', 'LUXEMBOURG',\n",
       "       'NETHERLANDS', 'NORWAY', 'PORTUGAL', 'SPAIN', 'SWEDEN',\n",
       "       'SWITZERLAND', 'UNITED KINGDOM', 'EUROPE NEW MEMBERS', 'BULGARIA',\n",
       "       'CROATIA', 'CYPRUS', 'CZECH REPUBLIC', 'ESTONIA', 'HUNGARY',\n",
       "       'LATVIA', 'LITHUANIA', 'MALTA', 'POLAND', 'ROMANIA', 'SLOVAKIA',\n",
       "       'SLOVENIA', 'RUSSIA, TURKEY & OTHER EUROPE', 'ALBANIA', 'BELARUS',\n",
       "       'BOSNIA', 'GEORGIA', 'MACEDONIA', 'MOLDAVIA', 'RUSSIA', 'SERBIA',\n",
       "       'TURKEY', 'UKRAINE', 'AMERICA', 'NAFTA', 'CANADA', 'MEXICO',\n",
       "       'UNITED STATES OF AMERICA', 'CENTRAL & SOUTH AMERICA', 'ARGENTINA',\n",
       "       'BAHAMAS', 'BARBADOS', 'BELIZE', 'BERMUDA', 'BOLIVIA', 'BRAZIL',\n",
       "       'CHILE', 'COLOMBIA', 'COSTA RICA', 'CUBA', 'DOMINICAN REPUBLIC',\n",
       "       'ECUADOR', 'EL SALVADOR', 'GUATEMALA', 'HAITI', 'HONDURAS',\n",
       "       'JAMAICA', 'NICARAGUA', 'PANAMA', 'PARAGUAY', 'PERU',\n",
       "       'PUERTO RICO', 'SURINAME', 'TRINIDAD AND TOBAGO', 'URUGUAY',\n",
       "       'VENEZUELA', 'ASIA/OCEANIA/MIDDLE EAST', 'AFGHANISTAN',\n",
       "       'AUSTRALIA', 'AZERBAIJAN', 'BAHRAIN', 'BANGLADESH', 'BRUNEI',\n",
       "       'CHINA', 'GUAM', 'HONG-KONG', 'INDIA', 'INDONESIA', 'IRAN', 'IRAQ',\n",
       "       'ISRAEL', 'JAPAN', 'JORDAN', 'KAZAKHSTAN', 'KUWAIT', 'KYRGYZSTAN',\n",
       "       'LEBANON', 'MALAYSIA', 'NEW CALEDONIA', 'NEW ZEALAND', 'OMAN',\n",
       "       'PAKISTAN', 'PALESTINE', 'PHILIPPINES', 'QATAR', 'SAUDI ARABIA',\n",
       "       'SINGAPORE', 'SOUTH KOREA', 'SRI LANKA', 'SYRIA', 'TAIWAN',\n",
       "       'THAILAND', 'UNITED ARAB EMIRATES', 'VIETNAM', 'YEMEN', 'AFRICA',\n",
       "       'ALGERIA', 'ANGOLA', 'BENIN', 'BOTSWANA', 'BURKINA FASO',\n",
       "       'BURUNDI', 'CAMEROON', 'CONGO KINSHASA ', 'EGYPT', 'ETHIOPIA',\n",
       "       'GHANA', 'IVORY COAST', 'KENYA', 'LIBERIA', 'LIBYA', 'MADAGASCAR',\n",
       "       'MALAWI', 'MALI', 'MAURITANIA', 'MAURITIUS', 'MOROCCO',\n",
       "       'MOZAMBIQUE', 'NIGERIA', 'SENEGAL', 'SOUTH AFRICA', 'SUDAN',\n",
       "       'TANZANIA', 'TOGO', 'TUNISIA', 'UGANDA', 'ZAMBIA', 'ZIMBABWE',\n",
       "       'ALL COUNTRIES'], dtype=object)"
      ]
     },
     "execution_count": 3,
     "metadata": {},
     "output_type": "execute_result"
    }
   ],
   "source": [
    "ius['REGIONS/COUNTRIES'].unique()"
   ]
  },
  {
   "cell_type": "markdown",
   "metadata": {},
   "source": [
    "### We will work with EU28 + EFTA"
   ]
  },
  {
   "cell_type": "code",
   "execution_count": 4,
   "metadata": {},
   "outputs": [],
   "source": [
    "ius = ius[(ius['REGIONS/COUNTRIES']=='EU 28 countries + EFTA')]"
   ]
  },
  {
   "cell_type": "code",
   "execution_count": 5,
   "metadata": {},
   "outputs": [],
   "source": [
    "ius = ius.melt(['REGIONS/COUNTRIES']).dropna()"
   ]
  },
  {
   "cell_type": "code",
   "execution_count": 6,
   "metadata": {},
   "outputs": [],
   "source": [
    "ius.rename(columns={'variable':'year'}, inplace=True)"
   ]
  },
  {
   "cell_type": "code",
   "execution_count": 7,
   "metadata": {},
   "outputs": [],
   "source": [
    "ius.set_index('year', inplace=True)"
   ]
  },
  {
   "cell_type": "code",
   "execution_count": 8,
   "metadata": {},
   "outputs": [],
   "source": [
    "ius.drop(index='Variation 2015/2014', inplace=True)"
   ]
  },
  {
   "cell_type": "code",
   "execution_count": 9,
   "metadata": {},
   "outputs": [],
   "source": [
    "# Convert string to integer\n",
    "for i in range(len(ius.index.values)): ius.index.values[i]= int(ius.index.values[i])"
   ]
  },
  {
   "cell_type": "markdown",
   "metadata": {},
   "source": [
    "## Calculating historic vehicles per capita"
   ]
  },
  {
   "cell_type": "code",
   "execution_count": 10,
   "metadata": {},
   "outputs": [],
   "source": [
    "population = pd.read_excel(data_path+'/EU_population.xlsx', skiprows=1)"
   ]
  },
  {
   "cell_type": "code",
   "execution_count": 11,
   "metadata": {},
   "outputs": [],
   "source": [
    "population.drop(columns=['Index','Region, subregion, country or area *', 'Variant', 'Notes', 'Country code', 'Type', 'Parent code'], inplace=True)"
   ]
  },
  {
   "cell_type": "code",
   "execution_count": 12,
   "metadata": {},
   "outputs": [],
   "source": [
    "population = population.melt()\n",
    "population.rename(columns={'variable':'year'}, inplace=True)"
   ]
  },
  {
   "cell_type": "code",
   "execution_count": 13,
   "metadata": {},
   "outputs": [],
   "source": [
    "population.set_index('year', inplace=True)"
   ]
  },
  {
   "cell_type": "code",
   "execution_count": 14,
   "metadata": {},
   "outputs": [],
   "source": [
    "ius.drop(columns=['REGIONS/COUNTRIES'], inplace=True)"
   ]
  },
  {
   "cell_type": "code",
   "execution_count": 15,
   "metadata": {},
   "outputs": [
    {
     "data": {
      "text/plain": [
       "array([1950, 1951, 1952, 1953, 1954, 1955, 1956, 1957, 1958, 1959, 1960,\n",
       "       1961, 1962, 1963, 1964, 1965, 1966, 1967, 1968, 1969, 1970, 1971,\n",
       "       1972, 1973, 1974, 1975, 1976, 1977, 1978, 1979, 1980, 1981, 1982,\n",
       "       1983, 1984, 1985, 1986, 1987, 1988, 1989, 1990, 1991, 1992, 1993,\n",
       "       1994, 1995, 1996, 1997, 1998, 1999, 2000, 2001, 2002, 2003, 2004,\n",
       "       2005, 2006, 2007, 2008, 2009, 2010, 2011, 2012, 2013, 2014, 2015,\n",
       "       2016, 2017, 2018, 2019, 2020, 2021, 2022, 2023, 2024, 2025, 2026,\n",
       "       2027, 2028, 2029, 2030, 2031, 2032, 2033, 2034, 2035, 2036, 2037,\n",
       "       2038, 2039, 2040, 2041, 2042, 2043, 2044, 2045, 2046, 2047, 2048,\n",
       "       2049, 2050, 2051, 2052, 2053, 2054, 2055, 2056, 2057, 2058, 2059,\n",
       "       2060, 2061, 2062, 2063, 2064, 2065, 2066, 2067, 2068, 2069, 2070,\n",
       "       2071, 2072, 2073, 2074, 2075, 2076, 2077, 2078, 2079, 2080, 2081,\n",
       "       2082, 2083, 2084, 2085, 2086, 2087, 2088, 2089, 2090, 2091, 2092,\n",
       "       2093, 2094, 2095, 2096, 2097, 2098, 2099, 2100], dtype=object)"
      ]
     },
     "execution_count": 15,
     "metadata": {},
     "output_type": "execute_result"
    }
   ],
   "source": [
    "# Convert strings to integer\n",
    "for i in range(len(population.index.values)): population.index.values[i]= int(population.index.values[i])\n",
    "population.index.values"
   ]
  },
  {
   "cell_type": "code",
   "execution_count": 16,
   "metadata": {},
   "outputs": [],
   "source": [
    "vpc = ius/population\n",
    "vpc.dropna(inplace=True)"
   ]
  },
  {
   "cell_type": "code",
   "execution_count": 17,
   "metadata": {},
   "outputs": [
    {
     "data": {
      "text/html": [
       "<div>\n",
       "<style scoped>\n",
       "    .dataframe tbody tr th:only-of-type {\n",
       "        vertical-align: middle;\n",
       "    }\n",
       "\n",
       "    .dataframe tbody tr th {\n",
       "        vertical-align: top;\n",
       "    }\n",
       "\n",
       "    .dataframe thead th {\n",
       "        text-align: right;\n",
       "    }\n",
       "</style>\n",
       "<table border=\"1\" class=\"dataframe\">\n",
       "  <thead>\n",
       "    <tr style=\"text-align: right;\">\n",
       "      <th></th>\n",
       "      <th>value</th>\n",
       "    </tr>\n",
       "    <tr>\n",
       "      <th>year</th>\n",
       "      <th></th>\n",
       "    </tr>\n",
       "  </thead>\n",
       "  <tbody>\n",
       "    <tr>\n",
       "      <th>2005</th>\n",
       "      <td>0.32199</td>\n",
       "    </tr>\n",
       "    <tr>\n",
       "      <th>2006</th>\n",
       "      <td>0.327314</td>\n",
       "    </tr>\n",
       "    <tr>\n",
       "      <th>2007</th>\n",
       "      <td>0.32618</td>\n",
       "    </tr>\n",
       "    <tr>\n",
       "      <th>2008</th>\n",
       "      <td>0.33194</td>\n",
       "    </tr>\n",
       "    <tr>\n",
       "      <th>2009</th>\n",
       "      <td>0.333685</td>\n",
       "    </tr>\n",
       "  </tbody>\n",
       "</table>\n",
       "</div>"
      ],
      "text/plain": [
       "         value\n",
       "year          \n",
       "2005   0.32199\n",
       "2006  0.327314\n",
       "2007   0.32618\n",
       "2008   0.33194\n",
       "2009  0.333685"
      ]
     },
     "execution_count": 17,
     "metadata": {},
     "output_type": "execute_result"
    }
   ],
   "source": [
    "vpc.head()"
   ]
  },
  {
   "cell_type": "markdown",
   "metadata": {},
   "source": [
    "## Fitting functions\n",
    "At the moment we will only work with one scenario, but we will leave the possibility open to add scenarios in the future."
   ]
  },
  {
   "cell_type": "code",
   "execution_count": 18,
   "metadata": {},
   "outputs": [],
   "source": [
    "t = np.arange(1950,2051)\n",
    "# Nz is the number of stock scenarios\n",
    "vpc_fit = np.zeros((Nz, Nt))\n",
    "popt, pcov = curve_fit(logistic, vpc.index.values, vpc.value.values, bounds=([min(vpc.index.values), 0., 0.01, 0.], [max(vpc.index.values), 100, 1, 1])) # Bounds are set as ([low_ti, low_tau, low_Co, low_C1],[high_ti,high_tau, high_Co, high_C1 ])\n",
    "vpc_fit[:,:] = logistic(t, *popt) # Here we can add the index for other scenarios\n"
   ]
  },
  {
   "cell_type": "code",
   "execution_count": 19,
   "metadata": {},
   "outputs": [
    {
     "data": {
      "image/png": "[encoded data removed]",
      "text/plain": [
       "<Figure size 576x504 with 1 Axes>"
      ]
     },
     "metadata": {
      "needs_background": "light"
     },
     "output_type": "display_data"
    }
   ],
   "source": [
    "'''\n",
    "It is likely that vehicle ownership will not increase as much as this curve shows. In fact, it may even decrease, \n",
    "but we can use this for the moment and decide how we would like to approach this with the scenarios later on. \n",
    "'''\n",
    "fig, ax = plt.subplots(figsize=(8,7))\n",
    "ax.plot(t, \n",
    "        vpc_fit[1,:])\n",
    "ax.set_ylabel('Vehicles per capita',fontsize =18)\n",
    "right_side = ax.spines[\"right\"]\n",
    "right_side.set_visible(False)\n",
    "top = ax.spines[\"top\"]\n",
    "top.set_visible(False)\n",
    "plt.grid()\n",
    "ax.legend('VpC EU', loc='upper left',prop={'size':15})\n",
    "ax.set_title('Vehicles per capita', fontsize=20)\n",
    "ax.set_xlabel('Year',fontsize =18)\n",
    "ax.tick_params(axis='both', which='major', labelsize=15)"
   ]
  },
  {
   "cell_type": "markdown",
   "metadata": {},
   "source": [
    "## Calculating total stock"
   ]
  },
  {
   "cell_type": "code",
   "execution_count": 20,
   "metadata": {},
   "outputs": [],
   "source": [
    "stock = np.zeros((Nz,Nt))\n",
    "stock[:,:] = population.value.values[0:101] * vpc_fit[0,:] # All scenarios are the same for now"
   ]
  },
  {
   "cell_type": "code",
   "execution_count": 40,
   "metadata": {
    "tags": []
   },
   "outputs": [
    {
     "data": {
      "image/png": "[encoded data removed]",
      "text/plain": [
       "<Figure size 576x504 with 1 Axes>"
      ]
     },
     "metadata": {
      "needs_background": "light"
     },
     "output_type": "display_data"
    }
   ],
   "source": [
    "fig, ax = plt.subplots(figsize=(8,7))\n",
    "ax.plot(np.arange(1950, 2051), \n",
    "        stock[0,:]/1000)   \n",
    "ax.plot(ius.index.values, \n",
    "        ius.value.values/1000, 'x')  \n",
    "ax.set_ylabel('Vehicles [million]',fontsize =18)\n",
    "right_side = ax.spines[\"right\"]\n",
    "right_side.set_visible(False)\n",
    "top = ax.spines[\"top\"]\n",
    "top.set_visible(False)\n",
    "plt.grid()\n",
    "ax.legend(['EU stock', 'Data'], loc='upper left',prop={'size':15})\n",
    "ax.set_title('Vehicle stock', fontsize=20)\n",
    "ax.set_xlabel('Year',fontsize =18)\n",
    "ax.tick_params(axis='both', which='major', labelsize=15)\n",
    "fig.savefig(os.path.join(os.getcwd(), 'SI', 'stock'), dpi=600)"
   ]
  },
  {
   "cell_type": "code",
   "execution_count": 41,
   "metadata": {},
   "outputs": [
    {
     "data": {
      "image/png": "[encoded data removed]",
      "text/plain": [
       "<Figure size 576x504 with 1 Axes>"
      ]
     },
     "metadata": {
      "needs_background": "light"
     },
     "output_type": "display_data"
    }
   ],
   "source": [
    "fig, ax = plt.subplots(figsize=(8,7))\n",
    "ax.plot(np.arange(1950, 2051), \n",
    "        population.value.values[0:101]/1000)  \n",
    "ax.set_ylabel('Persons [million]',fontsize =18)\n",
    "right_side = ax.spines[\"right\"]\n",
    "right_side.set_visible(False)\n",
    "top = ax.spines[\"top\"]\n",
    "top.set_visible(False)\n",
    "plt.grid()\n",
    "ax.legend(['UN baseline scenario', 'Data'], loc='upper left',prop={'size':15})\n",
    "ax.set_title('EU population', fontsize=20)\n",
    "ax.set_xlabel('Year',fontsize =18)\n",
    "ax.tick_params(axis='both', which='major', labelsize=15)\n",
    "fig.savefig(os.path.join(os.getcwd(), 'SI', 'population'), dpi=600)"
   ]
  },
  {
   "cell_type": "code",
   "execution_count": 42,
   "metadata": {},
   "outputs": [
    {
     "data": {
      "image/png": "[encoded data removed]",
      "text/plain": [
       "<Figure size 576x504 with 1 Axes>"
      ]
     },
     "metadata": {
      "needs_background": "light"
     },
     "output_type": "display_data"
    }
   ],
   "source": [
    "fig, ax = plt.subplots(figsize=(8,7))\n",
    "ax.plot(np.arange(1950, 2051), \n",
    "        vpc_fit[0, 0:101]*100)  \n",
    "ax.plot(vpc.index.values, vpc.value.values*100, 'x')\n",
    "ax.set_ylabel('Vehicles per capita [%]',fontsize =18)\n",
    "right_side = ax.spines[\"right\"]\n",
    "right_side.set_visible(False)\n",
    "top = ax.spines[\"top\"]\n",
    "top.set_visible(False)\n",
    "plt.grid()\n",
    "ax.legend(['Vehicle ownership scenario', 'Data'], loc='upper left',prop={'size':15})\n",
    "ax.set_title('Vehicle ownership in the EU', fontsize=20)\n",
    "ax.set_xlabel('Year',fontsize =18)\n",
    "ax.tick_params(axis='both', which='major', labelsize=15)\n",
    "fig.savefig(os.path.join(os.getcwd(), 'SI', 'vpc'), dpi=600)"
   ]
  },
  {
   "cell_type": "code",
   "execution_count": null,
   "metadata": {},
   "outputs": [],
   "source": [
    "# define results path\n",
    "results_path = os.path.join(os.getcwd(), 'data', 'scenario_data')\n",
    "np.save(results_path+'/stock', stock, allow_pickle=True)"
   ]
  },
  {
   "cell_type": "code",
   "execution_count": null,
   "metadata": {},
   "outputs": [],
   "source": []
  }
 ],
 "metadata": {
  "kernelspec": {
   "display_name": "Python 3.10.0 ('V2G')",
   "language": "python",
   "name": "python3"
  },
  "language_info": {
   "codemirror_mode": {
    "name": "ipython",
    "version": 3
   },
   "file_extension": ".py",
   "mimetype": "text/x-python",
   "name": "python",
   "nbconvert_exporter": "python",
   "pygments_lexer": "ipython3",
   "version": "3.10.0"
  },
  "orig_nbformat": 2,
  "vscode": {
   "interpreter": {
    "hash": "39669936ac2100964f3e41c1a03efadfcbbb30d16701996aa15fea40b1bc6652"
   }
  }
 },
 "nbformat": 4,
 "nbformat_minor": 2
}
