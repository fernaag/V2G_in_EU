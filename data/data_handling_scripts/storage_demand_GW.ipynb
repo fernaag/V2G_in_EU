{
 "cells": [
  {
   "cell_type": "markdown",
   "id": "999b9d88",
   "metadata": {},
   "source": [
    "## Demand for stationary storage in Europe: 1950--2050\n",
    "Based on the [2020 impact assessment](https://eur-lex.europa.eu/legal-content/EN/TXT/?uri=CELEX:52020SC0176) and the [2020 Study on energy storage](https://op.europa.eu/en/publication-detail/-/publication/a6eba083-932e-11ea-aac4-01aa75ed71a1), both by the European Commission.\n",
    "Known points: no battery storage in 2015, 0.4GW in 2020, 20-40GW by 2030, and 50-120GW by 2050.\n",
    "In 2018 in [A clean planet for all](https://ec.europa.eu/clima/sites/default/files/docs/pages/com_2018_733_analysis_in_support_en_0.pdf), the Commission expected 30GW by 2030 and 50-180GW by 2050.\n",
    "\n",
    "Assumptions: logistic evolution, saturate in 2050."
   ]
  },
  {
   "cell_type": "code",
   "execution_count": 1,
   "id": "f32663a6-0005-4f01-a7fd-ffef75f4f564",
   "metadata": {},
   "outputs": [],
   "source": [
    "import numpy as np\n",
    "import pandas as pd\n",
    "import matplotlib.pyplot as plt\n",
    "from matplotlib import rc"
   ]
  },
  {
   "cell_type": "code",
   "execution_count": 2,
   "id": "6a0d3098-c9c1-4fa2-9b7c-a4dbf26544af",
   "metadata": {
    "jupyter": {
     "source_hidden": true
    },
    "tags": []
   },
   "outputs": [],
   "source": [
    "# Load a local copy of the current ODYM branch:\n",
    "import sys\n",
    "import os\n",
    "import pickle\n",
    "from seaborn.palettes import color_palette\n",
    "import xlrd\n",
    "import pylab\n",
    "from copy import deepcopy\n",
    "import logging as log\n",
    "import xlwt\n",
    "import tqdm\n",
    "import math\n",
    "from scipy.stats import norm\n",
    "from tqdm import tqdm\n",
    "from scipy.optimize import curve_fit\n",
    "import matplotlib\n",
    "xlrd.xlsx.ensure_elementtree_imported(False, None)\n",
    "xlrd.xlsx.Element_has_iter = True"
   ]
  },
  {
   "cell_type": "code",
   "execution_count": 3,
   "id": "533b0bc7-a407-412a-a6c5-b85073aa2e28",
   "metadata": {
    "jupyter": {
     "source_hidden": true
    },
    "tags": []
   },
   "outputs": [
    {
     "name": "stderr",
     "output_type": "stream",
     "text": [
      "INFO (3728079259.py <<module>>): ### 1. - Initialize.\n",
      "INFO (3728079259.py <<module>>): Read and parse config table, including the model index table, from model config sheet.\n",
      "INFO (ODYM_Functions.py <ParseConfigFile>): Read parameter list from model config sheet.\n",
      "INFO (ODYM_Functions.py <ParseConfigFile>): Read process list from model config sheet.\n",
      "INFO (ODYM_Functions.py <ParseConfigFile>): Read model run control from model config sheet.\n",
      "INFO (ODYM_Functions.py <ParseConfigFile>): Read model output control from model config sheet.\n",
      "INFO (ODYM_Functions.py <ParseClassificationFile_Main>): End of file or formatting error while reading the classification file in column 16. Check if all classifications are present. If yes, you are good to go!\n",
      "INFO (3728079259.py <<module>>): Define model classifications and select items for model classifications according to information provided by config file.\n",
      "INFO (3728079259.py <<module>>): ### 2.2 - Define model index table and parameter dictionary\n",
      "INFO (3728079259.py <<module>>): Define index table dataframe.\n"
     ]
    },
    {
     "name": "stdout",
     "output_type": "stream",
     "text": [
      "Vehicle stock model for European fleet\n"
     ]
    }
   ],
   "source": [
    "# from logistic import logistic as logistic\n",
    "mpl_logger = log.getLogger(\"matplotlib\")\n",
    "mpl_logger.setLevel(log.WARNING)  \n",
    "# For Ipython Notebook only\n",
    "### Preamble\n",
    "# Going to parent path\n",
    "os.getcwd()\n",
    "os.chdir(\"..\")\n",
    "os.chdir(\"..\")\n",
    "\n",
    "# add ODYM module directory to system path, relative\n",
    "MainPath = os.path.join(os.getcwd(), 'odym', 'modules')\n",
    "sys.path.insert(0, MainPath)\n",
    "\n",
    "# add ODYM module directory to system path, absolute\n",
    "sys.path.insert(0, os.path.join(os.getcwd(), 'odym', 'modules'))\n",
    "\n",
    "# Specify path to dynamic stock model and to datafile, relative\n",
    "DataPath = os.path.join( 'docs', 'files')\n",
    "\n",
    "# Specify path to dynamic stock model and to datafile, absolute\n",
    "DataPath = os.path.join(os.getcwd(), 'docs', 'Files')\n",
    "\n",
    "import ODYM_Classes as msc # import the ODYM class file\n",
    "import ODYM_Functions as msf # import the ODYM function file\n",
    "import dynamic_stock_model as dsm # import the dynamic stock model library\n",
    "\n",
    "# Initialize loggin routine\n",
    "log_verbosity = eval(\"log.DEBUG\")\n",
    "log_filename = 'LogFileTest.md'\n",
    "[Mylog, console_log, file_log] = msf.function_logger(log_filename, os.getcwd(),\n",
    "                                                     log_verbosity, log_verbosity)\n",
    "Mylog.info('### 1. - Initialize.')\n",
    "\n",
    "#Read main script parameters\n",
    "#Load project-specific config file\n",
    "ProjectSpecs_ConFile = 'ODYM_Config_Vehicle_System.xlsx'\n",
    "Model_Configfile     = xlrd.open_workbook(os.path.join(DataPath, ProjectSpecs_ConFile))\n",
    "ScriptConfig         = {'Model Setting': Model_Configfile.sheet_by_name('Config').cell_value(3,3)} # Dictionary with config parameters\n",
    "Model_Configsheet    = Model_Configfile.sheet_by_name('Setting_' + ScriptConfig['Model Setting'])\n",
    "\n",
    "Name_Scenario        = Model_Configsheet.cell_value(3,3)\n",
    "print(Name_Scenario)\n",
    "\n",
    "#Read control and selection parameters into dictionary\n",
    "ScriptConfig         = msf.ParseModelControl(Model_Configsheet,ScriptConfig)\n",
    "\n",
    "Mylog.info('Read and parse config table, including the model index table, from model config sheet.')\n",
    "IT_Aspects,IT_Description,IT_Dimension,IT_Classification,IT_Selector,IT_IndexLetter,\\\n",
    "PL_Names,PL_Description,PL_Version,PL_IndexStructure,PL_IndexMatch,PL_IndexLayer,\\\n",
    "PrL_Number,PrL_Name,PrL_Comment,PrL_Type,ScriptConfig = msf.ParseConfigFile(Model_Configsheet,ScriptConfig,Mylog)    \n",
    "\n",
    "class_filename       = 'ODYM_Classifications_Master_Vehicle_System.xlsx'\n",
    "Classfile            = xlrd.open_workbook(os.path.join(DataPath,class_filename))\n",
    "Classsheet           = Classfile.sheet_by_name('MAIN_Table')\n",
    "MasterClassification = msf.ParseClassificationFile_Main(Classsheet,Mylog)\n",
    "\n",
    "\n",
    "Mylog.info('Define model classifications and select items for model classifications according to information provided by config file.')\n",
    "ModelClassification  = {} # Dict of model classifications\n",
    "for m in range(0,len(IT_Aspects)):\n",
    "    ModelClassification[IT_Aspects[m]] = deepcopy(MasterClassification[IT_Classification[m]])\n",
    "    EvalString = msf.EvalItemSelectString(IT_Selector[m],len(ModelClassification[IT_Aspects[m]].Items))\n",
    "    if EvalString.find(':') > -1: # range of items is taken\n",
    "        RangeStart = int(EvalString[0:EvalString.find(':')])\n",
    "        RangeStop  = int(EvalString[EvalString.find(':')+1::])\n",
    "        ModelClassification[IT_Aspects[m]].Items = ModelClassification[IT_Aspects[m]].Items[RangeStart:RangeStop]           \n",
    "    elif EvalString.find('[') > -1: # selected items are taken\n",
    "        ModelClassification[IT_Aspects[m]].Items = [ModelClassification[IT_Aspects[m]].Items[i] for i in eval(EvalString)]\n",
    "    elif EvalString == 'all':\n",
    "        None\n",
    "    else:\n",
    "        Mylog.error('Item select error for aspect ' + IT_Aspects[m] + ' were found in datafile.')\n",
    "        break\n",
    "\n",
    "# Define model index table and parameter dictionary\n",
    "Mylog.info('### 2.2 - Define model index table and parameter dictionary')\n",
    "Model_Time_Start = int(min(ModelClassification['Time'].Items))\n",
    "Model_Time_End   = int(max(ModelClassification['Time'].Items))\n",
    "Model_Duration   = Model_Time_End - Model_Time_Start + 1\n",
    "\n",
    "Mylog.info('Define index table dataframe.')\n",
    "IndexTable = pd.DataFrame({'Aspect'        : IT_Aspects,  # 'Time' and 'Element' must be present!\n",
    "                           'Description'   : IT_Description,\n",
    "                           'Dimension'     : IT_Dimension,\n",
    "                           'Classification': [ModelClassification[Aspect] for Aspect in IT_Aspects],\n",
    "                           'IndexLetter'   : IT_IndexLetter})  # Unique one letter (upper or lower case) indices to be used later for calculations.\n",
    "\n",
    "# Default indexing of IndexTable, other indices are produced on the fly\n",
    "IndexTable.set_index('Aspect', inplace=True)\n",
    "\n",
    "# Add indexSize to IndexTable:\n",
    "IndexTable['IndexSize'] = pd.Series([len(IndexTable.Classification[i].Items) for i in range(0, len(IndexTable.IndexLetter))],\n",
    "                                    index=IndexTable.index)\n",
    "\n",
    "# list of the classifications used for each indexletter\n",
    "IndexTable_ClassificationNames = [IndexTable.Classification[i].Name for i in range(0, len(IndexTable.IndexLetter))]\n",
    "\n",
    "\n",
    "# Define dimension sizes\n",
    "Nt = len(IndexTable.Classification[IndexTable.index.get_loc('Time')].Items)\n",
    "Nc = len(IndexTable.Classification[IndexTable.index.get_loc('Age-cohort')].Items)\n",
    "Ng = len(IndexTable.Classification[IndexTable.index.get_loc('Drive_train')].Items)\n",
    "Ne = len(IndexTable.Classification[IndexTable.index.get_loc('Element')].Items)\n",
    "Nb = len(IndexTable.Classification[IndexTable.index.get_loc('Battery_Chemistry')].Items)\n",
    "Ns = len(IndexTable.Classification[IndexTable.index.get_loc('Size')].Items)\n",
    "Nh = len(IndexTable.Classification[IndexTable.index.get_loc('Recycling_Process')].Items)\n",
    "NS = len(IndexTable.Classification[IndexTable.index.get_loc('EV_penetration_scenario')].Items)\n",
    "Na = len(IndexTable.Classification[IndexTable.index.get_loc('Chemistry_Scenarios')].Items)\n",
    "Nz = len(IndexTable.Classification[IndexTable.index.get_loc('Stock_Scenarios')].Items)\n",
    "NR = len(IndexTable.Classification[IndexTable.index.get_loc('Reuse_Scenarios')].Items)\n",
    "NE = len(IndexTable.Classification[IndexTable.index.get_loc('Energy_Storage_Scenarios')].Items)\n",
    "Nv = len(IndexTable.Classification[IndexTable.index.get_loc('V2G_Scenarios')].Items)"
   ]
  },
  {
   "cell_type": "code",
   "execution_count": 4,
   "id": "bfbc0c54",
   "metadata": {},
   "outputs": [],
   "source": [
    "def evol_logistic(T_years, T0, y_max, T_mid, slope):\n",
    "    y = pd.Series(data = np.zeros(len(T_years)), index = T_years)\n",
    "    for T in 1 + np.arange(T0, T_years[-1]):\n",
    "        y.loc[T] = y_max / (1 + np.exp(-slope*(T - T_mid)))\n",
    "    return y"
   ]
  },
  {
   "cell_type": "code",
   "execution_count": 5,
   "id": "d15b3bc1",
   "metadata": {},
   "outputs": [],
   "source": [
    "T_years = np.arange(1950, 2051)\n",
    "df_GW = pd.DataFrame(index = T_years)\n",
    "df_GW['Low'] = evol_logistic(T_years, T0 = 2016, y_max = 50, T_mid = 2030.75, slope = 0.5)\n",
    "df_GW['Medium'] = evol_logistic(T_years, T0 = 2016, y_max = 85, T_mid = 2031.25, slope = 0.5)\n",
    "df_GW['High'] = evol_logistic(T_years, T0 = 2016, y_max = 120, T_mid = 2031.4, slope = 0.5)\n",
    "df_GW['CP4All'] = evol_logistic(T_years, T0 = 2016, y_max = 180, T_mid = 2034, slope = 0.4)\n",
    "# Added by Fernando 22.11.2022\n",
    "df_GW['ENTSOE_2022'] = evol_logistic(T_years, T0 = 2016, y_max = 250, T_mid = 2034, slope = 0.4)"
   ]
  },
  {
   "cell_type": "markdown",
   "id": "1ffe25c9",
   "metadata": {},
   "source": [
    "## Creating numpy structured arrays for the model"
   ]
  },
  {
   "cell_type": "code",
   "execution_count": 6,
   "id": "ad263682",
   "metadata": {
    "jupyter": {
     "source_hidden": true
    },
    "tags": []
   },
   "outputs": [],
   "source": [
    "DemandArray = np.zeros((NE,Nt)) # 3 Energy storage demand scenarios and 101 years."
   ]
  },
  {
   "cell_type": "code",
   "execution_count": 7,
   "id": "9925f9da",
   "metadata": {
    "collapsed": true,
    "jupyter": {
     "outputs_hidden": true,
     "source_hidden": true
    },
    "tags": []
   },
   "outputs": [
    {
     "data": {
      "text/html": [
       "<div>\n",
       "<style scoped>\n",
       "    .dataframe tbody tr th:only-of-type {\n",
       "        vertical-align: middle;\n",
       "    }\n",
       "\n",
       "    .dataframe tbody tr th {\n",
       "        vertical-align: top;\n",
       "    }\n",
       "\n",
       "    .dataframe thead th {\n",
       "        text-align: right;\n",
       "    }\n",
       "</style>\n",
       "<table border=\"1\" class=\"dataframe\">\n",
       "  <thead>\n",
       "    <tr style=\"text-align: right;\">\n",
       "      <th></th>\n",
       "      <th>index</th>\n",
       "      <th>variable</th>\n",
       "      <th>value</th>\n",
       "    </tr>\n",
       "  </thead>\n",
       "  <tbody>\n",
       "    <tr>\n",
       "      <th>0</th>\n",
       "      <td>1950</td>\n",
       "      <td>Low</td>\n",
       "      <td>0.0</td>\n",
       "    </tr>\n",
       "    <tr>\n",
       "      <th>1</th>\n",
       "      <td>1951</td>\n",
       "      <td>Low</td>\n",
       "      <td>0.0</td>\n",
       "    </tr>\n",
       "    <tr>\n",
       "      <th>2</th>\n",
       "      <td>1952</td>\n",
       "      <td>Low</td>\n",
       "      <td>0.0</td>\n",
       "    </tr>\n",
       "    <tr>\n",
       "      <th>3</th>\n",
       "      <td>1953</td>\n",
       "      <td>Low</td>\n",
       "      <td>0.0</td>\n",
       "    </tr>\n",
       "    <tr>\n",
       "      <th>4</th>\n",
       "      <td>1954</td>\n",
       "      <td>Low</td>\n",
       "      <td>0.0</td>\n",
       "    </tr>\n",
       "  </tbody>\n",
       "</table>\n",
       "</div>"
      ],
      "text/plain": [
       "   index variable  value\n",
       "0   1950      Low    0.0\n",
       "1   1951      Low    0.0\n",
       "2   1952      Low    0.0\n",
       "3   1953      Low    0.0\n",
       "4   1954      Low    0.0"
      ]
     },
     "execution_count": 7,
     "metadata": {},
     "output_type": "execute_result"
    }
   ],
   "source": [
    "# Bring data to machine readable form\n",
    "df_GW_odym = df_GW.copy(deep = True)\n",
    "df_GW_odym.reset_index(inplace=True)\n",
    "df_GW_odym = df_GW_odym.melt('index')\n",
    "df_GW_odym.head()"
   ]
  },
  {
   "cell_type": "code",
   "execution_count": 8,
   "id": "cd32d10d",
   "metadata": {
    "jupyter": {
     "source_hidden": true
    },
    "tags": []
   },
   "outputs": [],
   "source": [
    "for m in range(0,len(df_GW_odym['value'])):\n",
    "    try:\n",
    "        ScenarioPosition = IndexTable.Classification[IndexTable.index.get_loc('Energy_Storage_Scenarios')].Items.index(df_GW_odym['variable'].iloc[m])\n",
    "        TimePosition = IndexTable.Classification[IndexTable.index.get_loc('Time')].Items.index(df_GW_odym['index'].iloc[m])\n",
    "        DemandArray[ScenarioPosition, TimePosition] = df_GW_odym['value'].iloc[m] * 6 # We multiply the demand for power with a factor of 7 which is the mean discharge time expected by the EU\n",
    "    # Some scenarios are not included in teh model run\n",
    "    except ValueError:\n",
    "        pass"
   ]
  },
  {
   "cell_type": "code",
   "execution_count": 16,
   "id": "ce9534e1",
   "metadata": {},
   "outputs": [
    {
     "data": {
      "text/plain": [
       "(3, 101)"
      ]
     },
     "execution_count": 16,
     "metadata": {},
     "output_type": "execute_result"
    }
   ],
   "source": [
    "DemandArray.shape"
   ]
  },
  {
   "cell_type": "markdown",
   "id": "a114d01b",
   "metadata": {},
   "source": [
    "## Exporting results"
   ]
  },
  {
   "cell_type": "code",
   "execution_count": 10,
   "id": "1b7d51d3",
   "metadata": {
    "jupyter": {
     "source_hidden": true
    },
    "tags": []
   },
   "outputs": [],
   "source": [
    "# define results path\n",
    "results_path = os.path.join(os.getcwd(), 'data', 'scenario_data')\n",
    "# Save as excel for overview\n",
    "df_GW_odym.to_excel(results_path+'/Energy_storage_demand.xlsx')\n",
    "# Saving array\n",
    "np.save(results_path+'/Energy_storage_demand', DemandArray, allow_pickle=True)"
   ]
  },
  {
   "cell_type": "markdown",
   "id": "f219b563",
   "metadata": {},
   "source": [
    "### Plot and export to csv"
   ]
  },
  {
   "cell_type": "code",
   "execution_count": 11,
   "id": "ad4af1b2-bed9-4d98-9684-61020fa17b75",
   "metadata": {},
   "outputs": [
    {
     "data": {
      "text/plain": [
       "Low            0.230479\n",
       "Medium         0.305456\n",
       "High           0.400177\n",
       "CP4All         0.663163\n",
       "ENTSOE_2022    0.921060\n",
       "Name: 2020, dtype: float64"
      ]
     },
     "execution_count": 11,
     "metadata": {},
     "output_type": "execute_result"
    }
   ],
   "source": [
    "df_GW.loc[2020]"
   ]
  },
  {
   "cell_type": "code",
   "execution_count": 12,
   "id": "ab3f3688",
   "metadata": {},
   "outputs": [
    {
     "data": {
      "image/png": "[encoded data removed]",
      "text/plain": [
       "<Figure size 576x252 with 1 Axes>"
      ]
     },
     "metadata": {},
     "output_type": "display_data"
    }
   ],
   "source": [
    "# layout\n",
    "# rc('font',**{'family':'serif','serif':['Computer Modern Roman']})\n",
    "# rc('text', usetex=True)\n",
    "fig = plt.figure(figsize=[8, 3.5], facecolor ='white')\n",
    "plt.rcParams.update({'font.size': 20})\n",
    "transp = 0.5\n",
    "# plots\n",
    "plt.scatter([2020], [0.4], s = [100], marker = 'x', color = 'Black')\n",
    "# - low\n",
    "plt.plot(df_GW['Low'], label = ' ', linewidth = 2, color = 'tab:orange', alpha = transp)\n",
    "plt.scatter([2030, 2050], [20, 50], s = [100, 100], marker = 'x', label = 'Low   ', color = 'tab:orange', alpha = transp)\n",
    "# - medium\n",
    "plt.plot(df_GW['Medium'], label = ' ', linewidth = 2, color = 'tab:blue', alpha = transp)\n",
    "plt.scatter([2030, 2050], [30, 85], s = [100, 100], marker = 'x', label = 'Medium', color = 'tab:blue', alpha = transp)\n",
    "# - high\n",
    "plt.plot(df_GW['High'], label = ' ', linewidth = 2, color = 'tab:green', alpha = transp)\n",
    "plt.scatter([2030, 2050], [40, 120], s = [100, 100], marker = 'x', label = 'High', color = 'tab:green', alpha = transp)\n",
    "# - very high\n",
    "plt.plot(df_GW['CP4All'], label = ' ', linewidth = 2, color = 'slateblue', alpha = transp)\n",
    "plt.scatter([2030, 2050], [30, 180], s = [100, 100], marker = 'x', label = 'CP4All', color = 'slateblue', alpha = transp)\n",
    "# New ENTSOE scenario --> Added by Fernando\n",
    "plt.plot(df_GW['ENTSOE_2022'], label = ' ', linewidth = 2, color = 'magenta', alpha = transp)\n",
    "plt.scatter([2030, 2050], [30, 250], s = [100, 100], marker = 'x', label = 'ENTSOE_2022', color = 'magenta', alpha = transp)\n",
    "# - ENTSOE\n",
    "plt.plot([2025], [0], label = ' ', alpha = 0)\n",
    "plt.scatter([2025, 2030, 2030, 2040, 2050, 2030, 2040, 2050], [0, 10, 40, 100, 100, 30, 75, 90], marker = 'x', label = 'ENTSOE', color = 'tab:gray')\n",
    "# layout\n",
    "plt.legend(loc = 'upper left', title = r'Trajectory $\\vert$ Goal $\\vert$ Scenario', ncol = 2, bbox_to_anchor=(1,1))\n",
    "plt.grid(linewidth=1)\n",
    "plt.xlabel('Year')\n",
    "plt.ylabel('Storage Demand (GW)')\n",
    "plt.xlim((2019.9, 2050.1))\n",
    "# plt.xlim((2015, 2050))\n",
    "plt.ylim((0, 260))\n",
    "plt.yticks(np.arange(0, 220, 40))\n",
    "fig.savefig('storage_demand_GW.pdf',bbox_inches='tight')\n",
    "fig.savefig('storage_demand_GW.png',bbox_inches='tight', transparent=False)\n",
    "# export to csv\n",
    "df_GW.to_csv('storage_demand_GW.csv')\n",
    "df_GW.to_excel('storage_demand_GW.xlsx')"
   ]
  },
  {
   "cell_type": "code",
   "execution_count": null,
   "id": "9e3fe9cd",
   "metadata": {},
   "outputs": [],
   "source": []
  }
 ],
 "metadata": {
  "kernelspec": {
   "display_name": "Python 3.10.0 ('V2G')",
   "language": "python",
   "name": "python3"
  },
  "language_info": {
   "codemirror_mode": {
    "name": "ipython",
    "version": 3
   },
   "file_extension": ".py",
   "mimetype": "text/x-python",
   "name": "python",
   "nbconvert_exporter": "python",
   "pygments_lexer": "ipython3",
   "version": "3.10.0"
  },
  "vscode": {
   "interpreter": {
    "hash": "39669936ac2100964f3e41c1a03efadfcbbb30d16701996aa15fea40b1bc6652"
   }
  }
 },
 "nbformat": 4,
 "nbformat_minor": 5
}
