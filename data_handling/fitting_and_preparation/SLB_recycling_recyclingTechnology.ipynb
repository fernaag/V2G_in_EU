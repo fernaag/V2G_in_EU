{
 "metadata": {
  "language_info": {
   "codemirror_mode": {
    "name": "ipython",
    "version": 3
   },
   "file_extension": ".py",
   "mimetype": "text/x-python",
   "name": "python",
   "nbconvert_exporter": "python",
   "pygments_lexer": "ipython3",
   "version": "3.7.4-final"
  },
  "orig_nbformat": 2,
  "kernelspec": {
   "name": "python3",
   "display_name": "Python 3.7.4 64-bit",
   "metadata": {
    "interpreter": {
     "hash": "d2e968add10d64ad2b3be6e57835fc773ce9c934140c61480cbe8a7410362424"
    }
   }
  }
 },
 "nbformat": 4,
 "nbformat_minor": 2,
 "cells": [
  {
   "source": [
    "# Reshaping data for model\n",
    "### In this file, we will take the data that has been gathered and harmonized and we will fit it, create scenarios, and save it as a structured array for the model. Since we would like to keep the flexibility with excel, we will also save it in an ODYM compatible format and create a file that can do the reverse: if teh excel file is eddited, so is the array. This will be a separate script"
   ],
   "cell_type": "markdown",
   "metadata": {}
  },
  {
   "cell_type": "code",
   "execution_count": 1,
   "metadata": {},
   "outputs": [
    {
     "output_type": "stream",
     "name": "stderr",
     "text": [
      "INFO (<ipython-input-1-4e04c21bfb68> <<module>>): ### 1. - Initialize.\n",
      "INFO (<ipython-input-1-4e04c21bfb68> <<module>>): Read and parse config table, including the model index table, from model config sheet.\n",
      "INFO (ODYM_Functions.py <ParseConfigFile>): Read parameter list from model config sheet.\n",
      "INFO (ODYM_Functions.py <ParseConfigFile>): Read process list from model config sheet.\n",
      "INFO (ODYM_Functions.py <ParseConfigFile>): Read model run control from model config sheet.\n",
      "INFO (ODYM_Functions.py <ParseConfigFile>): Read model output control from model config sheet.\n",
      "INFO (ODYM_Functions.py <ParseClassificationFile_Main>): End of file or formatting error while reading the classification file in column 21. Check if all classifications are present. If yes, you are good to go!\n",
      "INFO (<ipython-input-1-4e04c21bfb68> <<module>>): Define model classifications and select items for model classifications according to information provided by config file.\n",
      "INFO (<ipython-input-1-4e04c21bfb68> <<module>>): ### 2.2 - Define model index table and parameter dictionary\n",
      "INFO (<ipython-input-1-4e04c21bfb68> <<module>>): Define index table dataframe.\n",
      "DEBUG (pyplot.py <switch_backend>): Loaded backend module://ipykernel.pylab.backend_inline version unknown.\n",
      "Vehicle stock model for Global fleet\n"
     ]
    }
   ],
   "source": [
    "# Load a local copy of the current ODYM branch:\n",
    "import sys\n",
    "import os\n",
    "import numpy as np\n",
    "import pandas as pd\n",
    "import matplotlib.pyplot as plt\n",
    "import pickle\n",
    "import xlrd\n",
    "import pylab\n",
    "from copy import deepcopy\n",
    "import logging as log\n",
    "import xlwt\n",
    "import tqdm\n",
    "import math\n",
    "from scipy.stats import norm\n",
    "from openpyxl import *\n",
    "from scipy.optimize import curve_fit\n",
    "from scipy.stats import gompertz\n",
    "from sklearn.metrics import r2_score\n",
    "from logistic import logistic as logistic\n",
    "### Preamble\n",
    "\n",
    "# add ODYM module directory to system path, relative\n",
    "MainPath = os.path.join('/Users/fernaag/Box/BATMAN/Coding/Global_model', 'odym', 'modules')\n",
    "sys.path.insert(0, MainPath)\n",
    "\n",
    "# add ODYM module directory to system path, absolute\n",
    "sys.path.insert(0, os.path.join(os.getcwd(), 'odym', 'modules'))\n",
    "\n",
    "# Specify path to dynamic stock model and to datafile, relative\n",
    "DataPath = os.path.join( 'docs', 'files')\n",
    "\n",
    "# Specify path to dynamic stock model and to datafile, absolute\n",
    "DataPath = os.path.join('/Users/fernaag/Box/BATMAN/Coding/Global_model', 'docs', 'Files')\n",
    "\n",
    "import ODYM_Classes as msc # import the ODYM class file\n",
    "import ODYM_Functions as msf # import the ODYM function file\n",
    "import dynamic_stock_model as dsm # import the dynamic stock model library\n",
    "\n",
    "# Initialize loggin routine\n",
    "log_verbosity = eval(\"log.DEBUG\")\n",
    "log_filename = 'LogFileTest.md'\n",
    "[Mylog, console_log, file_log] = msf.function_logger(log_filename, os.getcwd(),\n",
    "                                                     log_verbosity, log_verbosity)\n",
    "Mylog.info('### 1. - Initialize.')\n",
    "\n",
    "#Read main script parameters\n",
    "#Load project-specific config file\n",
    "ProjectSpecs_ConFile = 'ODYM_Config_Vehicle_System.xlsx'\n",
    "Model_Configfile     = xlrd.open_workbook(os.path.join(DataPath, ProjectSpecs_ConFile))\n",
    "ScriptConfig         = {'Model Setting': Model_Configfile.sheet_by_name('Config').cell_value(3,3)} # Dictionary with config parameters\n",
    "Model_Configsheet    = Model_Configfile.sheet_by_name('Setting_' + ScriptConfig['Model Setting'])\n",
    "\n",
    "Name_Scenario        = Model_Configsheet.cell_value(3,3)\n",
    "print(Name_Scenario)\n",
    "\n",
    "#Read control and selection parameters into dictionary\n",
    "ScriptConfig         = msf.ParseModelControl(Model_Configsheet,ScriptConfig)\n",
    "\n",
    "Mylog.info('Read and parse config table, including the model index table, from model config sheet.')\n",
    "IT_Aspects,IT_Description,IT_Dimension,IT_Classification,IT_Selector,IT_IndexLetter,\\\n",
    "PL_Names,PL_Description,PL_Version,PL_IndexStructure,PL_IndexMatch,PL_IndexLayer,\\\n",
    "PrL_Number,PrL_Name,PrL_Comment,PrL_Type,ScriptConfig = msf.ParseConfigFile(Model_Configsheet,ScriptConfig,Mylog)    \n",
    "\n",
    "class_filename       = 'ODYM_Classifications_Master_Vehicle_System.xlsx'\n",
    "Classfile            = xlrd.open_workbook(os.path.join(DataPath,class_filename))\n",
    "Classsheet           = Classfile.sheet_by_name('MAIN_Table')\n",
    "MasterClassification = msf.ParseClassificationFile_Main(Classsheet,Mylog)\n",
    "\n",
    "Mylog.info('Define model classifications and select items for model classifications according to information provided by config file.')\n",
    "ModelClassification  = {} # Dict of model classifications\n",
    "for m in range(0,len(IT_Aspects)):\n",
    "    ModelClassification[IT_Aspects[m]] = deepcopy(MasterClassification[IT_Classification[m]])\n",
    "    EvalString = msf.EvalItemSelectString(IT_Selector[m],len(ModelClassification[IT_Aspects[m]].Items))\n",
    "    if EvalString.find(':') > -1: # range of items is taken\n",
    "        RangeStart = int(EvalString[0:EvalString.find(':')])\n",
    "        RangeStop  = int(EvalString[EvalString.find(':')+1::])\n",
    "        ModelClassification[IT_Aspects[m]].Items = ModelClassification[IT_Aspects[m]].Items[RangeStart:RangeStop]           \n",
    "    elif EvalString.find('[') > -1: # selected items are taken\n",
    "        ModelClassification[IT_Aspects[m]].Items = [ModelClassification[IT_Aspects[m]].Items[i] for i in eval(EvalString)]\n",
    "    elif EvalString == 'all':\n",
    "        None\n",
    "    else:\n",
    "        Mylog.error('Item select error for aspect ' + IT_Aspects[m] + ' were found in datafile.')\n",
    "        break\n",
    "\n",
    "# Define model index table and parameter dictionary\n",
    "Mylog.info('### 2.2 - Define model index table and parameter dictionary')\n",
    "Model_Time_Start = int(min(ModelClassification['Time'].Items))\n",
    "Model_Time_End   = int(max(ModelClassification['Time'].Items))\n",
    "Model_Duration   = Model_Time_End - Model_Time_Start + 1\n",
    "\n",
    "Mylog.info('Define index table dataframe.')\n",
    "IndexTable = pd.DataFrame({'Aspect'        : IT_Aspects,  # 'Time' and 'Element' must be present!\n",
    "                           'Description'   : IT_Description,\n",
    "                           'Dimension'     : IT_Dimension,\n",
    "                           'Classification': [ModelClassification[Aspect] for Aspect in IT_Aspects],\n",
    "                           'IndexLetter'   : IT_IndexLetter})  # Unique one letter (upper or lower case) indices to be used later for calculations.\n",
    "\n",
    "# Default indexing of IndexTable, other indices are produced on the fly\n",
    "IndexTable.set_index('Aspect', inplace=True)\n",
    "\n",
    "# Add indexSize to IndexTable:\n",
    "IndexTable['IndexSize'] = pd.Series([len(IndexTable.Classification[i].Items) for i in range(0, len(IndexTable.IndexLetter))],\n",
    "                                    index=IndexTable.index)\n",
    "\n",
    "# list of the classifications used for each indexletter\n",
    "IndexTable_ClassificationNames = [IndexTable.Classification[i].Name for i in range(0, len(IndexTable.IndexLetter))]\n",
    "\n",
    "# Define dimension sizes\n",
    "Nt = len(IndexTable.Classification[IndexTable.index.get_loc('Time')].Items)\n",
    "Nc = len(IndexTable.Classification[IndexTable.index.get_loc('Age-cohort')].Items)\n",
    "Ng = len(IndexTable.Classification[IndexTable.index.get_loc('Good')].Items)\n",
    "Nr = len(IndexTable.Classification[IndexTable.index.get_loc('Region')].Items)\n",
    "Ne = len(IndexTable.Classification[IndexTable.index.get_loc('Element')].Items)\n",
    "Nb = len(IndexTable.Classification[IndexTable.index.get_loc('Battery_Chemistry')].Items)\n",
    "Nk = len(IndexTable.Classification[IndexTable.index.get_loc('Capacity')].Items)\n",
    "Np = len(IndexTable.Classification[IndexTable.index.get_loc('Battery_Parts')].Items)\n",
    "Ns = len(IndexTable.Classification[IndexTable.index.get_loc('Segment')].Items)\n",
    "Nh = len(IndexTable.Classification[IndexTable.index.get_loc('Recycling_Process')].Items)\n",
    "Nv = len(IndexTable.Classification[IndexTable.index.get_loc('Make')].Items)\n",
    "NS = len(IndexTable.Classification[IndexTable.index.get_loc('Scenario')].Items)\n",
    "NR = len(IndexTable.Classification[IndexTable.index.get_loc('Reuse_Scenarios')].Items)"
   ]
  },
  {
   "source": [
    "## Preparing battery parts"
   ],
   "cell_type": "markdown",
   "metadata": {}
  },
  {
   "cell_type": "code",
   "execution_count": 2,
   "metadata": {},
   "outputs": [],
   "source": [
    "RecyclingArray = np.zeros((Nr,Nb,Nh, Nt))"
   ]
  },
  {
   "cell_type": "code",
   "execution_count": 8,
   "metadata": {},
   "outputs": [],
   "source": [
    "lp0, lp1, lp2, lp3 = pd.core.reshape.util.cartesian_product([IndexTable.Classification[IndexTable.index.get_loc('Region')].Items, IndexTable.Classification[IndexTable.index.get_loc('Battery_Chemistry')].Items, IndexTable.Classification[IndexTable.index.get_loc('Recycling_Process')].Items, IndexTable.Classification[IndexTable.index.get_loc('Time')].Items])\n",
    "df = pd.DataFrame(dict(region= lp0, battery_chemistry=lp1, recycling_process =lp2, year=lp3))"
   ]
  },
  {
   "cell_type": "code",
   "execution_count": 9,
   "metadata": {},
   "outputs": [],
   "source": [
    "df['value'] = 1/3"
   ]
  },
  {
   "cell_type": "code",
   "execution_count": 10,
   "metadata": {},
   "outputs": [
    {
     "output_type": "execute_result",
     "data": {
      "text/plain": [
       "          region battery_chemistry recycling_process    year     value\n",
       "0  US AND CANADA           LMO/NMC            Direct  1950.0  0.333333\n",
       "1  US AND CANADA           LMO/NMC            Direct  1951.0  0.333333\n",
       "2  US AND CANADA           LMO/NMC            Direct  1952.0  0.333333\n",
       "3  US AND CANADA           LMO/NMC            Direct  1953.0  0.333333\n",
       "4  US AND CANADA           LMO/NMC            Direct  1954.0  0.333333"
      ],
      "text/html": "<div>\n<style scoped>\n    .dataframe tbody tr th:only-of-type {\n        vertical-align: middle;\n    }\n\n    .dataframe tbody tr th {\n        vertical-align: top;\n    }\n\n    .dataframe thead th {\n        text-align: right;\n    }\n</style>\n<table border=\"1\" class=\"dataframe\">\n  <thead>\n    <tr style=\"text-align: right;\">\n      <th></th>\n      <th>region</th>\n      <th>battery_chemistry</th>\n      <th>recycling_process</th>\n      <th>year</th>\n      <th>value</th>\n    </tr>\n  </thead>\n  <tbody>\n    <tr>\n      <th>0</th>\n      <td>US AND CANADA</td>\n      <td>LMO/NMC</td>\n      <td>Direct</td>\n      <td>1950.0</td>\n      <td>0.333333</td>\n    </tr>\n    <tr>\n      <th>1</th>\n      <td>US AND CANADA</td>\n      <td>LMO/NMC</td>\n      <td>Direct</td>\n      <td>1951.0</td>\n      <td>0.333333</td>\n    </tr>\n    <tr>\n      <th>2</th>\n      <td>US AND CANADA</td>\n      <td>LMO/NMC</td>\n      <td>Direct</td>\n      <td>1952.0</td>\n      <td>0.333333</td>\n    </tr>\n    <tr>\n      <th>3</th>\n      <td>US AND CANADA</td>\n      <td>LMO/NMC</td>\n      <td>Direct</td>\n      <td>1953.0</td>\n      <td>0.333333</td>\n    </tr>\n    <tr>\n      <th>4</th>\n      <td>US AND CANADA</td>\n      <td>LMO/NMC</td>\n      <td>Direct</td>\n      <td>1954.0</td>\n      <td>0.333333</td>\n    </tr>\n  </tbody>\n</table>\n</div>"
     },
     "metadata": {},
     "execution_count": 10
    }
   ],
   "source": [
    "df.head()"
   ]
  },
  {
   "cell_type": "code",
   "execution_count": 11,
   "metadata": {},
   "outputs": [],
   "source": [
    "# Save as excel for overview\n",
    "df.to_excel('/Users/fernaag/Box/BATMAN/Data/Database/data/03_scenario_data/global_model/recyclingRate/recyclingRate_SLB.xlsx')"
   ]
  },
  {
   "cell_type": "code",
   "execution_count": 13,
   "metadata": {},
   "outputs": [],
   "source": [
    "for m in range(0,len(df['year'])):\n",
    "    RegionPosition = IndexTable.Classification[IndexTable.index.get_loc('Region')].Items.index(df['region'].iloc[m])\n",
    "    ChemistryPosition = IndexTable.Classification[IndexTable.index.get_loc('Battery_Chemistry')].Items.index(df['battery_chemistry'].iloc[m])\n",
    "    ProcessPosition = IndexTable.Classification[IndexTable.index.get_loc('Recycling_Process')].Items.index(df['recycling_process'].iloc[m])\n",
    "    Timeposition = IndexTable.Classification[IndexTable.index.get_loc('Time')].Items.index(df['year'].iloc[m])\n",
    "    RecyclingArray[RegionPosition, ChemistryPosition, ProcessPosition, Timeposition] = df['value'].iloc[m]"
   ]
  },
  {
   "cell_type": "code",
   "execution_count": 14,
   "metadata": {},
   "outputs": [],
   "source": [
    "np.save('/Users/fernaag/Box/BATMAN/Data/Database/data/03_scenario_data/global_model/recyclingRate/recyclingRateSLB_region_chemistry_recyclingProcess', RecyclingArray, allow_pickle=True)"
   ]
  },
  {
   "cell_type": "code",
   "execution_count": null,
   "metadata": {},
   "outputs": [],
   "source": []
  }
 ]
}